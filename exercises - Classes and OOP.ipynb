{
 "metadata": {
  "name": "exercises - Classes and OOP"
 },
 "nbformat": 3,
 "nbformat_minor": 0,
 "worksheets": [
  {
   "cells": [
    {
     "cell_type": "markdown",
     "metadata": {},
     "source": [
      "__1.1)__ Create a class to represent a 2D point in space. The initializer should accept 2 inputs -- an `x` and a `y` coordinate -- and store those values as attributes of the object."
     ]
    },
    {
     "cell_type": "code",
     "collapsed": false,
     "input": [
      "class Point2D(object):\n",
      "    def __init__(self,x=0.,y=0.):\n",
      "        self.x=x\n",
      "        self.y=y"
     ],
     "language": "python",
     "metadata": {},
     "outputs": [],
     "prompt_number": 6
    },
    {
     "cell_type": "markdown",
     "metadata": {},
     "source": [
      "__1.2)__ Add a method of the class called `distance_to()` that accepts another point object, and returns the Euclidean distance between the two points. Add a check to this method to make sure `point2` is a `Point2D` object."
     ]
    },
    {
     "cell_type": "code",
     "collapsed": false,
     "input": [
      "import math\n",
      "class Point2D(object):\n",
      "    def __init__(self,x=0.,y=0.):\n",
      "        self.x=x\n",
      "        self.y=y\n",
      "    def distance_to(self,point2):\n",
      "       # assert type(point2) is Point2D, \"point2 is not a Point2D object\"\n",
      "        assert isinstance(point2, Point2D), \"point2 is not a Point2D object\"\n",
      "        # maybe don't use assert, too aggressive?\n",
      "        return math.sqrt((self.x-point2.x)**2+(self.y-point2.y)**2)\n",
      "p=Point2D(x=5,y=4)\n",
      "#Point2D.distance_to(p,Point2D(x=3,y=3))\n",
      "p.distance_to(Point2D(x=0,y=0))\n",
      "#p.distance_to(0)"
     ],
     "language": "python",
     "metadata": {},
     "outputs": [
      {
       "output_type": "pyout",
       "prompt_number": 42,
       "text": [
        "6.4031242374328485"
       ]
      }
     ],
     "prompt_number": 42
    },
    {
     "cell_type": "code",
     "collapsed": false,
     "input": [
      "p1=[3.,4.,5.]\n",
      "p2=[1.,2.,3.]\n",
      "tot=0.0\n",
      "for i,p in enumerate(p1):\n",
      "    tot=tot+(p-p2[i])**2\n",
      "    \n",
      "distance=math.sqrt(tot)"
     ],
     "language": "python",
     "metadata": {},
     "outputs": [],
     "prompt_number": 60
    },
    {
     "cell_type": "markdown",
     "metadata": {},
     "source": [
      "__1.3)__ Generalize the class so it can handle an arbitrary number of dimensions. _hint: you can use `*args` to accept a variable number of arguments_"
     ]
    },
    {
     "cell_type": "code",
     "collapsed": false,
     "input": [
      "class PointND(object):\n",
      "    def __init__(self, *args):\n",
      "        #self.coords=[float(x) for x in args]\n",
      "        self.coords=[x for x in args]\n",
      "    def distance_to(self,point2):\n",
      "        tot=0.0\n",
      "        for i,p in enumerate(self.coords):\n",
      "            tot=tot+(p-point2.coords[i])**2\n",
      "        distance=math.sqrt(tot) #look in solutions!\n",
      "        return distance\n",
      "p=PointND(1,1,1)\n",
      "#print p\n",
      "#print p.coords\n",
      "#print PointND(1,1,1).coords\n",
      "p.distance_to(PointND(2,2,2))\n",
      "        \n",
      "    \n"
     ],
     "language": "python",
     "metadata": {},
     "outputs": [
      {
       "output_type": "pyout",
       "prompt_number": 85,
       "text": [
        "1.7320508075688772"
       ]
      }
     ],
     "prompt_number": 85
    },
    {
     "cell_type": "code",
     "collapsed": false,
     "input": [],
     "language": "python",
     "metadata": {},
     "outputs": []
    },
    {
     "cell_type": "code",
     "collapsed": false,
     "input": [],
     "language": "python",
     "metadata": {},
     "outputs": []
    },
    {
     "cell_type": "markdown",
     "metadata": {},
     "source": [
      "__2)__ Write a `Person` class and an `AddressBook` class. You should be able to add and remove people from the address book by passing in `Person` objects. If you search for a phone number, or persons name, it should return their address."
     ]
    },
    {
     "cell_type": "code",
     "collapsed": false,
     "input": [
      "#class AddressBook(object):\n",
      "    \n",
      "class Person(object):\n",
      "    def __init__(self,name,phone=None,address=None):\n",
      "        self.name=str(name)\n",
      "        self.phone=str(phone)\n",
      "        self.address=str(address)\n",
      "    def __repr__(self):\n",
      "        return \"Person's name is {0}\".format(self.name)\n",
      "    \n",
      "bob=Person('Bob',phone=8603383171)\n",
      "print bob.name, bob.phone,bob.address\n",
      "bob\n",
      "bob.__dict__\n",
      "\n",
      "#See solutions for how to do this....\n"
     ],
     "language": "python",
     "metadata": {},
     "outputs": [
      {
       "output_type": "stream",
       "stream": "stdout",
       "text": [
        "Bob 8603383171 None\n"
       ]
      },
      {
       "output_type": "pyout",
       "prompt_number": 93,
       "text": [
        "{'address': 'None', 'name': 'Bob', 'phone': '8603383171'}"
       ]
      }
     ],
     "prompt_number": 93
    },
    {
     "cell_type": "markdown",
     "metadata": {},
     "source": [
      "__3)__ Write a class to represent a vending machine. Keep track of the prices of each item, and how much money has been put in to the machine. The following code should work when you're done:\n",
      "\n",
      "    vm = VendingMachine()\n",
      "    vm.restock(\"water\", quantity=5, price=1.50)\n",
      "    vm.restock(\"iced tea\", quantity=10, price=2.50)\n",
      "    vm.restock(\"soda\", quantity=12, price=2.00)\n",
      "    \n",
      "    vm.vend(\"water\", 1.50)\n",
      "    print(vm.stock(\"water\")) # how many waters are left\n",
      "    \n",
      "    vm.vend(\"water\", 1.25) # should fail, and return the money to the user\n",
      "    vm.vend(\"water\", 1.75) # should work, and return 0.25 to the user\n",
      "    \n",
      "If the machine is out of a product, it should display a friendly message and fail to vend."
     ]
    },
    {
     "cell_type": "code",
     "collapsed": false,
     "input": [],
     "language": "python",
     "metadata": {},
     "outputs": []
    },
    {
     "cell_type": "code",
     "collapsed": false,
     "input": [],
     "language": "python",
     "metadata": {},
     "outputs": [],
     "prompt_number": 94
    },
    {
     "cell_type": "code",
     "collapsed": false,
     "input": [],
     "language": "python",
     "metadata": {},
     "outputs": []
    }
   ],
   "metadata": {}
  }
 ]
}