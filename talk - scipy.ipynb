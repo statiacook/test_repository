{
 "metadata": {
  "name": "talk - scipy"
 },
 "nbformat": 3,
 "nbformat_minor": 0,
 "worksheets": [
  {
   "cells": [
    {
     "cell_type": "heading",
     "level": 1,
     "metadata": {},
     "source": [
      "Scipy"
     ]
    },
    {
     "cell_type": "markdown",
     "metadata": {},
     "source": [
      "-----"
     ]
    },
    {
     "cell_type": "heading",
     "level": 3,
     "metadata": {},
     "source": [
      "Optimization"
     ]
    },
    {
     "cell_type": "markdown",
     "metadata": {},
     "source": [
      "Provides functions for model-independent optimization"
     ]
    },
    {
     "cell_type": "code",
     "collapsed": false,
     "input": [
      "from scipy import optimize"
     ],
     "language": "python",
     "metadata": {},
     "outputs": []
    },
    {
     "cell_type": "heading",
     "level": 4,
     "metadata": {},
     "source": [
      "Function minimization: minimize a quadratic"
     ]
    },
    {
     "cell_type": "code",
     "collapsed": false,
     "input": [
      "def quadratic(x):\n",
      "    return 17.1341*x**2 - 14.5123*x + 11.4123"
     ],
     "language": "python",
     "metadata": {},
     "outputs": []
    },
    {
     "cell_type": "code",
     "collapsed": false,
     "input": [
      "x_min = optimize.fmin(quadratic, x0=0.)"
     ],
     "language": "python",
     "metadata": {},
     "outputs": []
    },
    {
     "cell_type": "code",
     "collapsed": false,
     "input": [
      "x = arange(-10., 10., 0.1)\n",
      "plot(x, quadratic(x))\n",
      "axvline(x_min, color='r')"
     ],
     "language": "python",
     "metadata": {},
     "outputs": []
    },
    {
     "cell_type": "heading",
     "level": 4,
     "metadata": {},
     "source": [
      "Fit a model to data: a simple linear model"
     ]
    },
    {
     "cell_type": "code",
     "collapsed": false,
     "input": [
      "def model(x, *p): # for curve_fit\n",
      "    \"\"\" A simple linear model \"\"\"\n",
      "    m,b = p\n",
      "    return m*x + b\n",
      "\n",
      "def model(p, x): # for leastsq\n",
      "    \"\"\" A simple linear model \"\"\"\n",
      "    m,b = p\n",
      "    return m*x + b\n",
      "\n",
      "def error_func(p, x, y, sigma_y):\n",
      "    return (y - model(p,x)) / sigma_y"
     ],
     "language": "python",
     "metadata": {},
     "outputs": []
    },
    {
     "cell_type": "markdown",
     "metadata": {},
     "source": [
      "First we'll generate some data with the model function, then we'll fit it"
     ]
    },
    {
     "cell_type": "code",
     "collapsed": false,
     "input": [
      "true_p = [3.5, 11.]\n",
      "x = np.sort(np.random.uniform(0., 100., size=100))\n",
      "sigma_y = np.random.uniform(5., 20., size=100)\n",
      "y = model(true_p, x) + np.random.normal(0., sigma_y)\n",
      "errorbar(x, y, yerr=sigma_y, marker=\".\", linestyle='none')"
     ],
     "language": "python",
     "metadata": {},
     "outputs": []
    },
    {
     "cell_type": "markdown",
     "metadata": {},
     "source": [
      "`leastsq()` returns the optimal parameters (here, `fit_p`) and an integer that indicates whether the fit succeeded or failed. If `ier` is larger than 4, the fit probably failed."
     ]
    },
    {
     "cell_type": "code",
     "collapsed": false,
     "input": [
      "fit_p, ier = optimize.leastsq(error_func, x0=[1.,0.], \n",
      "                              args=(x, y, sigma_y))\n",
      "print ier"
     ],
     "language": "python",
     "metadata": {},
     "outputs": []
    },
    {
     "cell_type": "code",
     "collapsed": false,
     "input": [
      "figsize(10,6)\n",
      "errorbar(x, y, yerr=sigma_y, marker=\".\", linestyle='none')\n",
      "plot(x, model(true_p, x), marker=None, color='b')\n",
      "plot(x, model(fit_p, x), marker=None, color='r')"
     ],
     "language": "python",
     "metadata": {},
     "outputs": []
    },
    {
     "cell_type": "markdown",
     "metadata": {},
     "source": [
      "----"
     ]
    },
    {
     "cell_type": "heading",
     "level": 3,
     "metadata": {},
     "source": [
      "Integration"
     ]
    },
    {
     "cell_type": "code",
     "collapsed": false,
     "input": [
      "from scipy import integrate"
     ],
     "language": "python",
     "metadata": {},
     "outputs": []
    },
    {
     "cell_type": "heading",
     "level": 4,
     "metadata": {},
     "source": [
      "Numerically integrate a function from a to b"
     ]
    },
    {
     "cell_type": "code",
     "collapsed": false,
     "input": [
      "def simple_func(x):\n",
      "    return -2.*x + 10"
     ],
     "language": "python",
     "metadata": {},
     "outputs": []
    },
    {
     "cell_type": "code",
     "collapsed": false,
     "input": [
      "integral, abs_error = integrate.quad(simple_func, 0., 10.)\n",
      "print \"{0} +/- {1}\".format(integral, abs_error)"
     ],
     "language": "python",
     "metadata": {},
     "outputs": []
    },
    {
     "cell_type": "markdown",
     "metadata": {},
     "source": [
      "Good, it's consistent with zero!"
     ]
    },
    {
     "cell_type": "markdown",
     "metadata": {},
     "source": [
      "-----"
     ]
    },
    {
     "cell_type": "heading",
     "level": 3,
     "metadata": {},
     "source": [
      "Interpolation"
     ]
    },
    {
     "cell_type": "code",
     "collapsed": false,
     "input": [
      "from scipy import interpolate"
     ],
     "language": "python",
     "metadata": {},
     "outputs": []
    },
    {
     "cell_type": "markdown",
     "metadata": {},
     "source": [
      "Let's say we have some data:"
     ]
    },
    {
     "cell_type": "code",
     "collapsed": false,
     "input": [
      "x = np.sort(np.random.random(size=10))\n",
      "y = 5.*x**2 + 3.*x - 11"
     ],
     "language": "python",
     "metadata": {},
     "outputs": []
    },
    {
     "cell_type": "code",
     "collapsed": false,
     "input": [
      "plot(x, y, marker='o', linestyle='none')"
     ],
     "language": "python",
     "metadata": {},
     "outputs": []
    },
    {
     "cell_type": "markdown",
     "metadata": {},
     "source": [
      "What if we want the value of whatever function produced these data at x=0.4?"
     ]
    },
    {
     "cell_type": "code",
     "collapsed": false,
     "input": [
      "interpolate."
     ],
     "language": "python",
     "metadata": {},
     "outputs": []
    },
    {
     "cell_type": "code",
     "collapsed": false,
     "input": [
      "cubic_func = interpolate.interp1d(x, y, kind='cubic')\n",
      "linear_func = interpolate.interp1d(x, y, kind='linear')\n",
      "print cubic_func(np.array([0.4, 0.5, 0.6])),linear_func(0.4)"
     ],
     "language": "python",
     "metadata": {},
     "outputs": []
    },
    {
     "cell_type": "code",
     "collapsed": false,
     "input": [
      "figsize(5,5)\n",
      "plot(x, y, marker='o', linestyle='none')\n",
      "plot(0.45, cubic_func(0.45), marker='^', linestyle='none', \n",
      "     color='m', markersize=30, alpha=0.4)\n",
      "plot(0.45, linear_func(0.45), marker='o', linestyle='none', \n",
      "     color='c', markersize=30, alpha=0.4)\n",
      "xlim(0.2, 0.6)\n",
      "ylim(-10, -7.5)"
     ],
     "language": "python",
     "metadata": {},
     "outputs": []
    },
    {
     "cell_type": "markdown",
     "metadata": {},
     "source": [
      "------"
     ]
    },
    {
     "cell_type": "heading",
     "level": 3,
     "metadata": {},
     "source": [
      "ndimage"
     ]
    },
    {
     "cell_type": "code",
     "collapsed": false,
     "input": [
      "from scipy import ndimage\n",
      "import Image \n",
      "# requires the Python Imaging Library\n",
      "#     can install with 'conda install pil' or\n",
      "#     or 'pip install pil'"
     ],
     "language": "python",
     "metadata": {},
     "outputs": []
    },
    {
     "cell_type": "code",
     "collapsed": false,
     "input": [
      "image_data = np.array(Image.open(\"../data/cat.jpeg\"))\n",
      "image_data.shape"
     ],
     "language": "python",
     "metadata": {},
     "outputs": []
    },
    {
     "cell_type": "code",
     "collapsed": false,
     "input": [
      "im = Image.fromarray(image_data)\n",
      "im.save(\"whatever.jpg\")"
     ],
     "language": "python",
     "metadata": {},
     "outputs": []
    },
    {
     "cell_type": "code",
     "collapsed": false,
     "input": [
      "r,g,b = image_data.T"
     ],
     "language": "python",
     "metadata": {},
     "outputs": []
    },
    {
     "cell_type": "heading",
     "level": 4,
     "metadata": {},
     "source": [
      "Filters"
     ]
    },
    {
     "cell_type": "markdown",
     "metadata": {},
     "source": [
      "Gaussian filter (blur)"
     ]
    },
    {
     "cell_type": "code",
     "collapsed": false,
     "input": [
      "figure(figsize=(12,10))\n",
      "subplot(121)\n",
      "imshow(r.T, cmap=cm.Greys_r)\n",
      "\n",
      "subplot(122)\n",
      "filtered_r = ndimage.filters.gaussian_filter(r, 3.)\n",
      "imshow(filtered_r.T, cmap=cm.Greys_r)"
     ],
     "language": "python",
     "metadata": {},
     "outputs": []
    },
    {
     "cell_type": "markdown",
     "metadata": {},
     "source": [
      "Maximum filter: takes a moving window of given size and replaces all values with the maximum pixel value in that chunk."
     ]
    },
    {
     "cell_type": "code",
     "collapsed": false,
     "input": [
      "filtered_r = ndimage.filters.maximum_filter(r, size=(3,10))\n",
      "imshow(filtered_r.T, cmap=cm.Greys_r)"
     ],
     "language": "python",
     "metadata": {},
     "outputs": []
    },
    {
     "cell_type": "markdown",
     "metadata": {},
     "source": [
      "Percentile filter: same as above, but instead of maximum takes the pixel value at whatever percentile you request."
     ]
    },
    {
     "cell_type": "code",
     "collapsed": false,
     "input": [
      "filtered_r = ndimage.filters.percentile_filter(r, percentile=50, size=(25,25))\n",
      "imshow(filtered_r.T, cmap=cm.Greys_r)"
     ],
     "language": "python",
     "metadata": {},
     "outputs": []
    },
    {
     "cell_type": "heading",
     "level": 4,
     "metadata": {},
     "source": [
      "image interpolation (e.g. rotation, shift)"
     ]
    },
    {
     "cell_type": "code",
     "collapsed": false,
     "input": [
      "filtered_r = ndimage.interpolation.rotate(r, 70)\n",
      "imshow(filtered_r.T, cmap=cm.Greys_r)"
     ],
     "language": "python",
     "metadata": {},
     "outputs": []
    },
    {
     "cell_type": "markdown",
     "metadata": {},
     "source": [
      "---"
     ]
    },
    {
     "cell_type": "heading",
     "level": 3,
     "metadata": {},
     "source": [
      "Read an IDL sav file"
     ]
    },
    {
     "cell_type": "code",
     "collapsed": false,
     "input": [
      "from scipy import io"
     ],
     "language": "python",
     "metadata": {},
     "outputs": []
    },
    {
     "cell_type": "code",
     "collapsed": false,
     "input": [
      "io.readsav(\"name-of-file.sav\")"
     ],
     "language": "python",
     "metadata": {},
     "outputs": []
    }
   ],
   "metadata": {}
  }
 ]
}