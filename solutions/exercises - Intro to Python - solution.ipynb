{
 "metadata": {
  "name": "exercises - Intro to Python - solution"
 },
 "nbformat": 3,
 "nbformat_minor": 0,
 "worksheets": [
  {
   "cells": [
    {
     "cell_type": "heading",
     "level": 1,
     "metadata": {},
     "source": [
      "Python A"
     ]
    },
    {
     "cell_type": "markdown",
     "metadata": {},
     "source": [
      "__1)__ Use the `help()` function to read the documentation for the `print` statement."
     ]
    },
    {
     "cell_type": "code",
     "collapsed": false,
     "input": [
      "help('if')"
     ],
     "language": "python",
     "metadata": {
      "slideshow": {
       "slide_type": "skip"
      }
     },
     "outputs": []
    },
    {
     "cell_type": "markdown",
     "metadata": {},
     "source": [
      "__2)__ Use Python as a calculator: Demitri unicycles for 13.76 minutes, before falling. How long is this in years?"
     ]
    },
    {
     "cell_type": "code",
     "collapsed": false,
     "input": [
      "13.76/60/24/365"
     ],
     "language": "python",
     "metadata": {},
     "outputs": []
    },
    {
     "cell_type": "markdown",
     "metadata": {},
     "source": [
      "__3)__ Define two integer variables `width` and `height`, then use them to compute and print the area."
     ]
    },
    {
     "cell_type": "code",
     "collapsed": false,
     "input": [
      "width = 5\n",
      "height = 11\n",
      "area = width*height\n",
      "print area"
     ],
     "language": "python",
     "metadata": {},
     "outputs": []
    },
    {
     "cell_type": "markdown",
     "metadata": {},
     "source": [
      "__4)__ Re-define the variable `width` as a string, now repeat the area calculation. What happens? Why?"
     ]
    },
    {
     "cell_type": "code",
     "collapsed": false,
     "input": [
      "width = \"derp\"\n",
      "area = width*height\n",
      "print area"
     ],
     "language": "python",
     "metadata": {},
     "outputs": []
    },
    {
     "cell_type": "markdown",
     "metadata": {},
     "source": [
      "__5)__ Create a list and a tuple `my_list` and `my_tuple`, each with 5 items. Update the 2nd item in each to be 'a string'. What happens with the tuple?"
     ]
    },
    {
     "cell_type": "code",
     "collapsed": false,
     "input": [
      "my_list = [1,2,3,4,5]\n",
      "my_tuple = (1,2,3,4,5)\n",
      "\n",
      "my_list[2] = \"\"\n",
      "my_tuple[2] = \"\""
     ],
     "language": "python",
     "metadata": {},
     "outputs": []
    },
    {
     "cell_type": "markdown",
     "metadata": {},
     "source": [
      "__6)__ Create a dictionary, but try using different Python objects as keys."
     ]
    },
    {
     "cell_type": "code",
     "collapsed": false,
     "input": [
      "a_dict = {}\n",
      "a_dict[5] = \"asdfadf\"\n",
      "a_dict[(1,2,3)] = \"Asdfnag\"\n",
      "a_dict[\"asdfas\"] = 15"
     ],
     "language": "python",
     "metadata": {},
     "outputs": []
    },
    {
     "cell_type": "markdown",
     "metadata": {},
     "source": [
      "__7)__ Write a loop to sum all factors of 4 up to 100."
     ]
    },
    {
     "cell_type": "code",
     "collapsed": false,
     "input": [
      "the_sum = 0\n",
      "for ii in range(100):\n",
      "    if ii % 4 == 0:\n",
      "        the_sum += ii\n",
      "the_sum"
     ],
     "language": "python",
     "metadata": {},
     "outputs": []
    },
    {
     "cell_type": "markdown",
     "metadata": {},
     "source": [
      "__8)__ Parse the file `data/table.txt` into a Python dictionary of lists. Each key in the dictionary should be a column name."
     ]
    },
    {
     "cell_type": "code",
     "collapsed": false,
     "input": [
      "with open(\"../../data/table.txt\") as f:\n",
      "    lines = f.readlines()\n",
      "    column_names = [x.strip() for x in lines[0].split(\",\")]\n",
      "    \n",
      "    table = dict()\n",
      "    for name in column_names:\n",
      "        table[name] = []\n",
      "        \n",
      "    for line in lines[1:]:\n",
      "        for ii,name in enumerate(column_names):\n",
      "            table[name].append(line.split(',')[ii].strip())"
     ],
     "language": "python",
     "metadata": {},
     "outputs": []
    },
    {
     "cell_type": "markdown",
     "metadata": {},
     "source": [
      "__9.1)__ Count how many lines, and words there are in the Gettysburg Address (in `data/gettysburg_address.txt`)."
     ]
    },
    {
     "cell_type": "code",
     "collapsed": false,
     "input": [
      "with open(\"../../data/gettysburg_address.txt\") as f:\n",
      "    text = f.read()\n",
      "    \n",
      "    for punct in '.,-':\n",
      "        text = text.replace(punct, ' ')\n",
      "        \n",
      "    print(\"There are {0} words, {1} lines.\".\\\n",
      "          format(len(text.split()), len(text.splitlines())))"
     ],
     "language": "python",
     "metadata": {},
     "outputs": []
    },
    {
     "cell_type": "markdown",
     "metadata": {},
     "source": [
      "__9.1)__ Count how many of each vowel there are in the GA, print this out."
     ]
    },
    {
     "cell_type": "code",
     "collapsed": false,
     "input": [
      "with open(\"../../data/gettysburg_address.txt\") as f:\n",
      "    text = f.read()\n",
      "    for vowel in 'aeiou':\n",
      "        print(\"There are {0} {1}'s.\".format(text.count(vowel), vowel))"
     ],
     "language": "python",
     "metadata": {},
     "outputs": []
    },
    {
     "cell_type": "markdown",
     "metadata": {},
     "source": [
      "__9.2)__ Sort the words in the address alphabetically, and remove duplicate words. Re-write this to a file."
     ]
    },
    {
     "cell_type": "code",
     "collapsed": false,
     "input": [
      "with open(\"../../data/gettysburg_address.txt\") as f:\n",
      "    text = f.read()\n",
      "    text = text.lower()\n",
      "    \n",
      "    for punct in '.,-':\n",
      "        text = text.replace(punct, ' ')\n",
      "    \n",
      "    words = text.split()\n",
      "    unq_words = sorted(set(words))\n",
      "\n",
      "with open(\"gettysburg_address_sorted.txt\", \"w\") as f:\n",
      "    f.write(\" \".join(unq_words))"
     ],
     "language": "python",
     "metadata": {},
     "outputs": [],
     "prompt_number": 26
    },
    {
     "cell_type": "code",
     "collapsed": false,
     "input": [],
     "language": "python",
     "metadata": {},
     "outputs": []
    }
   ],
   "metadata": {}
  }
 ]
}