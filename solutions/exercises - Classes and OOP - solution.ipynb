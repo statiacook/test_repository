{
 "metadata": {
  "name": "exercises - Classes and OOP - solution"
 },
 "nbformat": 3,
 "nbformat_minor": 0,
 "worksheets": [
  {
   "cells": [
    {
     "cell_type": "markdown",
     "metadata": {},
     "source": [
      "__1.1)__ Create a class to represent a 2D point in space. The initializer should accept 2 inputs -- an `x` and a `y` coordinate -- and store those values as attributes of the object."
     ]
    },
    {
     "cell_type": "code",
     "collapsed": false,
     "input": [
      "class Point2D(object):\n",
      "    \n",
      "    def __init__(self, x, y):\n",
      "        self.x = float(x)\n",
      "        self.y = float(y)"
     ],
     "language": "python",
     "metadata": {},
     "outputs": [],
     "prompt_number": 1
    },
    {
     "cell_type": "markdown",
     "metadata": {},
     "source": [
      "__1.2)__ Add a method of the class called `distance_to()` that accepts another point object, and returns the Euclidean distance between the two points. Add a check to this method to make sure `point2` is a `Point2D` object."
     ]
    },
    {
     "cell_type": "code",
     "collapsed": false,
     "input": [
      "import math\n",
      "\n",
      "class Point2D(object):\n",
      "    \n",
      "    def __init__(self, x, y):\n",
      "        self.x = float(x)\n",
      "        self.y = float(y)\n",
      "    \n",
      "    def distance_to(self, point2):\n",
      "        if not isinstance(point2, Point2D):\n",
      "            raise TypeError(\"'point2' must be a Point2D object.\")\n",
      "        return math.sqrt((self.x - point2.x)**2 + \n",
      "                         (self.y - point2.y)**2)"
     ],
     "language": "python",
     "metadata": {},
     "outputs": [],
     "prompt_number": 2
    },
    {
     "cell_type": "code",
     "collapsed": false,
     "input": [
      "p1 = Point2D(10., 17)\n",
      "p2 = Point2D(11., 34)\n",
      "p1.distance_to(p2)"
     ],
     "language": "python",
     "metadata": {},
     "outputs": [
      {
       "metadata": {},
       "output_type": "pyout",
       "prompt_number": 4,
       "text": [
        "17.029386365926403"
       ]
      }
     ],
     "prompt_number": 4
    },
    {
     "cell_type": "markdown",
     "metadata": {},
     "source": [
      "__1.3)__ Generalize the class so it can handle an arbitrary number of dimensions. _hint: you can use `*args` to accept a variable number of arguments_"
     ]
    },
    {
     "cell_type": "code",
     "collapsed": false,
     "input": [
      "class PointND(object):\n",
      "    \n",
      "    def __init__(self, *args):\n",
      "        self.coordinates = [float(x) for x in args]\n",
      "    \n",
      "    def distance_to(self, point2):\n",
      "        dist_sq = [(x1 - x2)**2 for x1,x2 in zip(self.coordinates,\n",
      "                                                 point2.coordinates)]\n",
      "        return math.sqrt(sum(dist_sq))"
     ],
     "language": "python",
     "metadata": {},
     "outputs": [],
     "prompt_number": 5
    },
    {
     "cell_type": "code",
     "collapsed": false,
     "input": [
      "p1 = Point2D(10., 17)\n",
      "p2 = Point2D(11., 34)\n",
      "p1.distance_to(p2)"
     ],
     "language": "python",
     "metadata": {},
     "outputs": [
      {
       "metadata": {},
       "output_type": "pyout",
       "prompt_number": 6,
       "text": [
        "17.029386365926403"
       ]
      }
     ],
     "prompt_number": 6
    },
    {
     "cell_type": "code",
     "collapsed": false,
     "input": [
      "p1 = Point2D(10., 17, 1.,)\n",
      "p2 = Point2D(11., 34, 0.)\n",
      "p1.distance_to(p2)"
     ],
     "language": "python",
     "metadata": {},
     "outputs": [
      {
       "metadata": {},
       "output_type": "pyout",
       "prompt_number": 7,
       "text": [
        "17.05872210923198"
       ]
      }
     ],
     "prompt_number": 7
    },
    {
     "cell_type": "markdown",
     "metadata": {},
     "source": [
      "__2)__ Write a `Person` class and an `AddressBook` class. You should be able to add and remove people from the address book by passing in `Person` objects. You should be able to search the address book on a phone number, name, or email address and have it return that `Person`."
     ]
    },
    {
     "cell_type": "code",
     "collapsed": false,
     "input": [
      "class Person(object):\n",
      "    \n",
      "    def __init__(self, name, address, phone_number=None, \n",
      "                 email_address=None):\n",
      "        \"\"\" Represents a person.\n",
      "            \n",
      "            Parameters\n",
      "            ----------\n",
      "            name : str\n",
      "                A string, first and last name.\n",
      "            address : str\n",
      "                A street address.\n",
      "            phone_number : str (optional)\n",
      "                A phone number.\n",
      "            email_address : str (optional)\n",
      "                An email address.\n",
      "        \"\"\"\n",
      "        self.name = str(name)\n",
      "        self.address = str(address)\n",
      "        self.phone_number = str(phone_number)\n",
      "        self.email_address = str(email_address)\n",
      "    \n",
      "    def __repr__(self):\n",
      "        return \"<Person name={0}>\".format(self.name)\n",
      "    \n",
      "    def __str__(self):\n",
      "        return \"{0}, {1}\".format(self.name, self.address)"
     ],
     "language": "python",
     "metadata": {},
     "outputs": [],
     "prompt_number": 26
    },
    {
     "cell_type": "code",
     "collapsed": false,
     "input": [
      "class AddressBook(object):\n",
      "    \n",
      "    def __init__(self, persons=None):\n",
      "        \"\"\" A searchable address book. \n",
      "            \n",
      "            Parameters\n",
      "            ----------\n",
      "            persons : list (optional)\n",
      "                A list of Person objects.\n",
      "        \"\"\"\n",
      "        \n",
      "        if persons is None:\n",
      "            persons = []\n",
      "        self.persons = persons\n",
      "    \n",
      "    def add_person(self, person):\n",
      "        if not isinstance(person, Person):\n",
      "            raise TypeError(\"Can only add Person objects to the \"\n",
      "                            \"address book\")\n",
      "        \n",
      "        self.persons.append(person)\n",
      "    \n",
      "    def search(self, name=None, email_address=None, phone_number=None):\n",
      "        \"\"\" Search the address book and return the matching \n",
      "            Person object \n",
      "        \"\"\"\n",
      "        if name is not None:\n",
      "            return [p for p in self.persons if p.name == name]\n",
      "        elif email_address is not None:\n",
      "            return [p for p in self.persons \n",
      "                        if p.email_address == email_address]\n",
      "        elif phone_number is not None:\n",
      "            return [p for p in self.persons \n",
      "                        if p.phone_number == phone_number]"
     ],
     "language": "python",
     "metadata": {},
     "outputs": [],
     "prompt_number": 22
    },
    {
     "cell_type": "code",
     "collapsed": false,
     "input": [
      "adrian = Person(name=\"adrian\", address=\"519 W 121st st.\",\n",
      "                email_address=\"adrn@astro.columbia.edu\",\n",
      "                phone_number='2033131337')\n",
      "demitri = Person(name=\"demitri\", address=\"somewhere in Ohio\",\n",
      "                email_address=\"muna@nyu.edu\")\n",
      "\n",
      "ab = AddressBook()\n",
      "ab.add_person(adrian)\n",
      "ab.add_person(demitri)"
     ],
     "language": "python",
     "metadata": {},
     "outputs": [],
     "prompt_number": 23
    },
    {
     "cell_type": "code",
     "collapsed": false,
     "input": [
      "persons = ab.search(phone_number='2033131337')\n",
      "persons[0]"
     ],
     "language": "python",
     "metadata": {},
     "outputs": [
      {
       "metadata": {},
       "output_type": "pyout",
       "prompt_number": 25,
       "text": [
        "<Person name=adrian>"
       ]
      }
     ],
     "prompt_number": 25
    },
    {
     "cell_type": "markdown",
     "metadata": {},
     "source": [
      "__3)__ Write a class to represent a vending machine. Keep track of the prices of each item, and how much money has been put in to the machine. The following code should work when you're done:\n",
      "\n",
      "    vm = VendingMachine()\n",
      "    vm.restock(\"water\", quantity=5, price=1.50)\n",
      "    vm.restock(\"iced tea\", quantity=10, price=2.50)\n",
      "    vm.restock(\"soda\", quantity=12, price=2.00)\n",
      "    \n",
      "    vm.vend(\"water\", 1.50)\n",
      "    print(vm.stock(\"water\")) # how many waters are left\n",
      "    \n",
      "    vm.vend(\"water\", 1.25) # should fail, and return the money to the user\n",
      "    vm.vend(\"water\", 1.75) # should work, and return 0.25 to the user\n",
      "    \n",
      "If the machine is out of a product, it should display a friendly message and fail to vend."
     ]
    },
    {
     "cell_type": "code",
     "collapsed": false,
     "input": [
      "class VendingMachine(object):\n",
      "    \n",
      "    def __init__(self):\n",
      "        self._inventory = dict()\n",
      "        self.profit = 0.\n",
      "    \n",
      "    def restock(self, product, quantity, price):\n",
      "        if not self._inventory.has_key(product):\n",
      "            self._inventory[product] = {'quantity' : int(quantity),\n",
      "                                        'price' : float(price)}\n",
      "        else:\n",
      "            self._inventory[product]['quantity'] += int(quantity)\n",
      "    \n",
      "    def vend(self, product, monies):\n",
      "        monies = float(monies)\n",
      "        \n",
      "        price = self._inventory[product]['price']\n",
      "        quantity = self._inventory[product]['quantity']\n",
      "        \n",
      "        if price <= monies and quantity > 0:\n",
      "            self._inventory[product]['quantity'] -= 1\n",
      "            self.profit += price\n",
      "            return monies - price\n",
      "        elif quantity == 0:\n",
      "            print(\"Sold out of {0}!\".format(product))\n",
      "            return None\n",
      "        elif price > monies:\n",
      "            print(\"{0} costs ${1}. You put in: ${2}\".\\\n",
      "                  format(product, price, monies))\n",
      "                                                            \n",
      "            return monies\n",
      "    \n",
      "    def stock(self, product):\n",
      "        return self._inventory[product]['quantity']"
     ],
     "language": "python",
     "metadata": {},
     "outputs": [],
     "prompt_number": 7
    },
    {
     "cell_type": "code",
     "collapsed": false,
     "input": [
      "vm = VendingMachine()\n",
      "vm.restock(\"water\", quantity=5, price=1.50)\n",
      "vm.restock(\"iced tea\", quantity=10, price=2.50)\n",
      "vm.restock(\"soda\", quantity=12, price=2.00)\n",
      "\n",
      "vm.vend(\"water\", 1.50)\n",
      "print(vm.stock(\"water\")) # how many waters are left\n",
      "\n",
      "vm.vend(\"water\", 1.25) # should fail, and return the money to the user\n",
      "change = vm.vend(\"water\", 1.75) # should work, and return 0.25 to the user"
     ],
     "language": "python",
     "metadata": {},
     "outputs": [
      {
       "output_type": "stream",
       "stream": "stdout",
       "text": [
        "4\n",
        "water costs $1.5. You put in: $1.25\n"
       ]
      }
     ],
     "prompt_number": 10
    },
    {
     "cell_type": "code",
     "collapsed": false,
     "input": [
      "vm.profit"
     ],
     "language": "python",
     "metadata": {},
     "outputs": [
      {
       "metadata": {},
       "output_type": "pyout",
       "prompt_number": 11,
       "text": [
        "3.0"
       ]
      }
     ],
     "prompt_number": 11
    },
    {
     "cell_type": "code",
     "collapsed": false,
     "input": [],
     "language": "python",
     "metadata": {},
     "outputs": []
    }
   ],
   "metadata": {}
  }
 ]
}