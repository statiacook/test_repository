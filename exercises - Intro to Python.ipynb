{
 "metadata": {
  "name": "exercises - Intro to Python"
 },
 "nbformat": 3,
 "nbformat_minor": 0,
 "worksheets": [
  {
   "cells": [
    {
     "cell_type": "heading",
     "level": 1,
     "metadata": {},
     "source": [
      "Python A"
     ]
    },
    {
     "cell_type": "markdown",
     "metadata": {},
     "source": [
      "__1)__ Use the `help()` function to read the documentation for the `print` statement."
     ]
    },
    {
     "cell_type": "code",
     "collapsed": false,
     "input": [
      "from __future__ import print_function\n",
      "help(print)"
     ],
     "language": "python",
     "metadata": {
      "slideshow": {
       "slide_type": "skip"
      }
     },
     "outputs": [
      {
       "output_type": "stream",
       "stream": "stdout",
       "text": [
        "Help on built-in function print in module __builtin__:\n",
        "\n",
        "print(...)\n",
        "    print(value, ..., sep=' ', end='\\n', file=sys.stdout)\n",
        "    \n",
        "    Prints the values to a stream, or to sys.stdout by default.\n",
        "    Optional keyword arguments:\n",
        "    file: a file-like object (stream); defaults to the current sys.stdout.\n",
        "    sep:  string inserted between values, default a space.\n",
        "    end:  string appended after the last value, default a newline.\n",
        "\n"
       ]
      }
     ],
     "prompt_number": 3
    },
    {
     "cell_type": "markdown",
     "metadata": {},
     "source": [
      "__2)__ Use Python as a calculator: Demitri unicycles for 13.76 minutes, before falling. How long is this in years?"
     ]
    },
    {
     "cell_type": "code",
     "collapsed": false,
     "input": [
      "13.76/60/24/365"
     ],
     "language": "python",
     "metadata": {},
     "outputs": [
      {
       "output_type": "pyout",
       "prompt_number": 4,
       "text": [
        "2.617960426179604e-05"
       ]
      }
     ],
     "prompt_number": 4
    },
    {
     "cell_type": "markdown",
     "metadata": {},
     "source": [
      "__3)__ Define two integer variables `width` and `height`, then use them to compute and print the area."
     ]
    },
    {
     "cell_type": "code",
     "collapsed": false,
     "input": [
      "width=5\n",
      "height=3\n",
      "print(width*height)"
     ],
     "language": "python",
     "metadata": {},
     "outputs": [
      {
       "output_type": "stream",
       "stream": "stdout",
       "text": [
        "15\n"
       ]
      }
     ],
     "prompt_number": 13
    },
    {
     "cell_type": "markdown",
     "metadata": {},
     "source": [
      "__4)__ Re-define the variable `width` as a string, now repeat the area calculation. What happens? Why?"
     ]
    },
    {
     "cell_type": "code",
     "collapsed": false,
     "input": [
      "width=str(width)\n",
      "print(width*height)"
     ],
     "language": "python",
     "metadata": {},
     "outputs": [
      {
       "output_type": "stream",
       "stream": "stdout",
       "text": [
        "555\n"
       ]
      }
     ],
     "prompt_number": 14
    },
    {
     "cell_type": "markdown",
     "metadata": {},
     "source": [
      "__5)__ Create a list and a tuple `my_list` and `my_tuple`, each with 5 items. Update the 2nd item in each to be 'a string'. What happens with the tuple?"
     ]
    },
    {
     "cell_type": "code",
     "collapsed": false,
     "input": [
      "my_list=[1,2,3,4,5]\n",
      "my_tuple=(1,2,3,4,5)\n",
      "my_list[1]='a string'\n",
      "print(my_list)\n",
      "my_tuple[1]='a_string'"
     ],
     "language": "python",
     "metadata": {},
     "outputs": [
      {
       "ename": "TypeError",
       "evalue": "'tuple' object does not support item assignment",
       "output_type": "pyerr",
       "traceback": [
        "\u001b[0;31m---------------------------------------------------------------------------\u001b[0m\n\u001b[0;31mTypeError\u001b[0m                                 Traceback (most recent call last)",
        "\u001b[0;32m<ipython-input-18-c4f0e974ceb2>\u001b[0m in \u001b[0;36m<module>\u001b[0;34m()\u001b[0m\n\u001b[1;32m      3\u001b[0m \u001b[0mmy_list\u001b[0m\u001b[0;34m[\u001b[0m\u001b[0;36m1\u001b[0m\u001b[0;34m]\u001b[0m\u001b[0;34m=\u001b[0m\u001b[0;34m'a string'\u001b[0m\u001b[0;34m\u001b[0m\u001b[0m\n\u001b[1;32m      4\u001b[0m \u001b[0;32mprint\u001b[0m\u001b[0;34m(\u001b[0m\u001b[0mmy_list\u001b[0m\u001b[0;34m)\u001b[0m\u001b[0;34m\u001b[0m\u001b[0m\n\u001b[0;32m----> 5\u001b[0;31m \u001b[0mmy_tuple\u001b[0m\u001b[0;34m[\u001b[0m\u001b[0;36m1\u001b[0m\u001b[0;34m]\u001b[0m\u001b[0;34m=\u001b[0m\u001b[0;34m'a_string'\u001b[0m\u001b[0;34m\u001b[0m\u001b[0m\n\u001b[0m",
        "\u001b[0;31mTypeError\u001b[0m: 'tuple' object does not support item assignment"
       ]
      },
      {
       "output_type": "stream",
       "stream": "stdout",
       "text": [
        "[1, 'a string', 3, 4, 5]\n"
       ]
      }
     ],
     "prompt_number": 18
    },
    {
     "cell_type": "markdown",
     "metadata": {},
     "source": [
      "__6)__ Create a dictionary, but try using different Python objects as keys."
     ]
    },
    {
     "cell_type": "code",
     "collapsed": false,
     "input": [
      "things={'time':5,'day':'Monday','array':range(5)}\n",
      "print(things)\n",
      "print(things['day'])"
     ],
     "language": "python",
     "metadata": {},
     "outputs": [
      {
       "output_type": "stream",
       "stream": "stdout",
       "text": [
        "{'array': [0, 1, 2, 3, 4], 'day': 'Monday', 'time': 5}\n",
        "Monday\n"
       ]
      }
     ],
     "prompt_number": 21
    },
    {
     "cell_type": "markdown",
     "metadata": {},
     "source": [
      "__7)__ Write a loop to sum all factors of 4 up to 100."
     ]
    },
    {
     "cell_type": "code",
     "collapsed": false,
     "input": [
      "a=0\n",
      "for x in range(0,100,4):\n",
      "    a=a+x\n",
      "print(a)"
     ],
     "language": "python",
     "metadata": {},
     "outputs": [
      {
       "output_type": "stream",
       "stream": "stdout",
       "text": [
        "1200\n"
       ]
      }
     ],
     "prompt_number": 24
    },
    {
     "cell_type": "markdown",
     "metadata": {},
     "source": [
      "__8)__ Parse the file `data/table.txt` into a Python dictionary of lists. Each key in the dictionary should be a column name."
     ]
    },
    {
     "cell_type": "code",
     "collapsed": false,
     "input": [
      "testdata=open(\"../data/table.txt\")\n",
      "allines=testdata.readlines()\n",
      "print(allines[0])\n",
      "# remove newline character, separate values by commas\n",
      "columns=allines[0].rstrip().split(',')\n",
      "print(columns)\n",
      "# initialize dictionary of lists\n",
      "data=dict()\n",
      "for col in columns: # col is the actual item not the index\n",
      "    print(col)\n",
      "    data[col]=[]\n",
      "# print(data)\n",
      "# read data into dictionary\n",
      "for i in range(1,len(allines)):\n",
      "    #allines[i].rstrip()\n",
      "    #print(allines[i])\n",
      "    for j,value in enumerate(allines[i].rstrip().split(',')):\n",
      "        data[columns[j]].append(value)\n",
      "testdata.close()\n",
      "print(data)"
     ],
     "language": "python",
     "metadata": {},
     "outputs": [
      {
       "output_type": "stream",
       "stream": "stdout",
       "text": [
        "ra,dec,name\n",
        "\n",
        "['ra', 'dec', 'name']\n",
        "ra\n",
        "dec\n",
        "name\n",
        "{'dec': ['+29.4010', '+38.9506', '+43.0143', '+43.7657', '+34.2204', '-29.7284', '-71.3283', '-79.6796', '+00.0763', '+03.2306', '-05.6008', '-12.3607', '-09.3187', '-05.6852', '-01.7212', '-24.2163', '-02.8901', '+00.5853', '-49.4335', '-52.7224', '+10.4459', '+40.7770', '+31.7546', '+35.7845', '+36.0456', '+28.2065', '+41.0289', '+35.1160', '+12.9518', '+29.0655', '+23.2516', '+13.1912', '+12.6509', '+25.7191', '+37.8282', '+43.7740', '+31.6511', '+32.6546', '+39.9008', '+37.2067', '+37.0927', '+40.5089', '+05.6365', '+27.0293', '+23.2785', '+20.7808', '-37.7396', '+26.8771', '-17.9144', '-10.4413', '+30.4279', '+56.3882', '+32.1914', '+12.4641', '+57.8398', '+67.3297', '+69.5106', '+64.8589', '+55.4924', '+76.6857', '+66.4133', '+60.0692', '-15.7412', '-11.3539', '-19.4336', '-26.8660', '-36.0538', '+30.8832', '+19.2733', '+30.4105', '+18.3668', '+35.9786', '+46.9238', '+14.4824', '+37.8013', '-26.0475', '-09.3191', '+04.1113', '-13.1382', '-15.5997', '+02.8347', '-05.4402', '-09.7825', '-08.8459', '+06.3911', '-45.0746', '-15.2295'], 'ra': ['005.9295', '019.3642', '355.6285', '028.7846', '016.3569', '154.0206', '222.2084', '223.0226', '318.8244', '324.0352', '330.4814', '343.5340', '354.6370', '314.4517', '317.5535', '349.8217', '309.5627', '308.1315', '269.7947', '270.7679', '047.1287', '107.8959', '218.3884', '232.6635', '216.8957', '220.5557', '221.2748', '229.2722', '209.6931', '139.7751', '121.6065', '128.2299', '139.4124', '126.4256', '211.6166', '192.4396', '209.8886', '206.2626', '207.0664', '188.9835', '190.2117', '187.6154', '117.2377', '188.1901', '196.2833', '199.4639', '281.9901', '230.5893', '171.6235', '177.2343', '314.1179', '293.1221', '320.2982', '311.8682', '248.8817', '174.4859', '184.4443', '287.4275', '276.7781', '273.5794', '289.5861', '222.9360', '072.4345', '047.9671', '073.4063', '031.9666', '052.5931', '110.3897', '118.4310', '268.6300', '247.6700', '258.2667', '240.1343', '260.1307', '249.5754', '187.6271', '138.4534', '144.1241', '153.3505', '137.4558', '123.1326', '134.5266', '135.0738', '128.7735', '133.7095', '317.8746', '315.3703'], 'name': ['SW And', 'XX And', 'AT And', 'CI And', 'DR And', 'WY Ant', 'TY Aps', 'XZ Aps', 'SW Aqr', 'SX Aqr', 'TZ Aqr', 'BO Aqr', 'BR Aqr', 'BT Aqr', 'CP Aqr', 'DN Aqr', 'AA Aql', 'V341 Aql', 'S Ara', 'MS Ara', 'X Ari', 'TZ Aur', 'RS Boo', 'ST Boo', 'SW Boo', 'SZ Boo', 'TW Boo', 'UU Boo', 'UY Boo', 'RW Cnc', 'SS Cnc', 'TT Cnc', 'AQ Cnc', 'AS Cnc', 'W CVn', 'Z CVn', 'RU CVn', 'RZ CVn', 'SS CVn', 'SV CVn', 'SW CVn', 'UZ CVn', 'AL CMi', 'S Com', 'RY Com', 'ST Com', 'V413 CrA', 'TV CrB', 'W Crt', 'X Crt', 'UY Cyg', 'XZ Cyg', 'DM Cyg', 'DX Del', 'RW Dra', 'SU Dra', 'SW Dra', 'XZ Dra', 'AE Dra', 'BC Dra', 'BK Dra', 'BT Dra', 'RX Eri', 'SV Eri', 'BB Eri', 'SS For', 'SX For', 'RR Gem', 'SZ Gem', 'TW Her', 'VX Her', 'VZ Her', 'AR Her', 'DL Her', 'GY Her', 'SV Hya', 'SZ Hya', 'UU Hya', 'WZ Hya', 'XX Hya', 'DD Hya', 'DG Hya', 'DH Hya', 'ET Hya', 'GO Hya', 'V Ind', 'RV Cap']}\n"
       ]
      }
     ],
     "prompt_number": 2
    },
    {
     "cell_type": "markdown",
     "metadata": {},
     "source": [
      "__9.1)__ Count how many lines, and words there are in the Gettysburg Address (in `data/gettysburg_address.txt`)."
     ]
    },
    {
     "cell_type": "code",
     "collapsed": false,
     "input": [],
     "language": "python",
     "metadata": {},
     "outputs": []
    },
    {
     "cell_type": "markdown",
     "metadata": {},
     "source": [
      "__9.1)__ Count how many of each vowel there are in the GA, print this out."
     ]
    },
    {
     "cell_type": "code",
     "collapsed": false,
     "input": [],
     "language": "python",
     "metadata": {},
     "outputs": []
    },
    {
     "cell_type": "markdown",
     "metadata": {},
     "source": [
      "__9.2)__ Sort the words in the address alphabetically, and remove duplicate words. Re-write this to a file."
     ]
    },
    {
     "cell_type": "code",
     "collapsed": false,
     "input": [],
     "language": "python",
     "metadata": {},
     "outputs": []
    }
   ],
   "metadata": {}
  }
 ]
}