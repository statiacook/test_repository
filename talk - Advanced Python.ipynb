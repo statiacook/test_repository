{
 "metadata": {
  "name": "talk - Advanced Python"
 },
 "nbformat": 3,
 "nbformat_minor": 0,
 "worksheets": [
  {
   "cells": [
    {
     "cell_type": "heading",
     "level": 1,
     "metadata": {},
     "source": [
      "Advanced Python"
     ]
    },
    {
     "cell_type": "heading",
     "level": 3,
     "metadata": {},
     "source": [
      "Docstrings"
     ]
    },
    {
     "cell_type": "markdown",
     "metadata": {},
     "source": [
      "A good way to document functions an classes is to explain the functionality in a _docstring_. This is simply a multi-line string (using ''' or \"\"\") that sits directly below the `def function_name():` line. A good way to format this is as follows:"
     ]
    },
    {
     "cell_type": "code",
     "collapsed": false,
     "input": [
      "def some_function(a, b, c=None):\n",
      "    \"\"\" Brief description of function.\n",
      "    \n",
      "        More lengthy explanation of functionality \n",
      "        and behavior.\n",
      "        \n",
      "        Parameters\n",
      "        ----------\n",
      "        a : str\n",
      "            Describe this parameter.\n",
      "        b : int\n",
      "            Describe this parameter.\n",
      "        c : float (optional)\n",
      "            Describe this parameter.\n",
      "    \"\"\""
     ],
     "language": "python",
     "metadata": {},
     "outputs": []
    },
    {
     "cell_type": "heading",
     "level": 3,
     "metadata": {},
     "source": [
      "generators"
     ]
    },
    {
     "cell_type": "code",
     "collapsed": false,
     "input": [
      "def apw_range(x):\n",
      "    ii = 0\n",
      "    while ii < x:\n",
      "        yield ii\n",
      "        ii += 1"
     ],
     "language": "python",
     "metadata": {},
     "outputs": []
    },
    {
     "cell_type": "code",
     "collapsed": false,
     "input": [
      "for val in apw_range(100000000000):\n",
      "    print val\n",
      "    if val > 10:\n",
      "        break # otherwise, goes on forever..."
     ],
     "language": "python",
     "metadata": {},
     "outputs": []
    },
    {
     "cell_type": "heading",
     "level": 2,
     "metadata": {
      "slideshow": {
       "slide_type": "slide"
      }
     },
     "source": [
      "Standard library highlights"
     ]
    },
    {
     "cell_type": "markdown",
     "metadata": {
      "slideshow": {
       "slide_type": "subslide"
      }
     },
     "source": [
      "There are a number of libraries included with the standard Python installation \n",
      "that add built-in functionality for a wide range of applications. Here we try \n",
      "to highlight functionality from a few of the most commonly used packages. All \n",
      "of these require an `import` statement to access the features, e.g., `import os`. "
     ]
    },
    {
     "cell_type": "heading",
     "level": 3,
     "metadata": {},
     "source": [
      "math"
     ]
    },
    {
     "cell_type": "markdown",
     "metadata": {},
     "source": [
      "Mathematical functions"
     ]
    },
    {
     "cell_type": "code",
     "collapsed": false,
     "input": [
      "import math\n",
      "math.pi"
     ],
     "language": "python",
     "metadata": {},
     "outputs": []
    },
    {
     "cell_type": "code",
     "collapsed": false,
     "input": [
      "math.cos(math.radians(97.16))"
     ],
     "language": "python",
     "metadata": {},
     "outputs": []
    },
    {
     "cell_type": "code",
     "collapsed": false,
     "input": [
      "math.sqrt(71)"
     ],
     "language": "python",
     "metadata": {},
     "outputs": []
    },
    {
     "cell_type": "heading",
     "level": 3,
     "metadata": {},
     "source": [
      "os"
     ]
    },
    {
     "cell_type": "markdown",
     "metadata": {},
     "source": [
      "miscellaneous operating system interfaces and tools"
     ]
    },
    {
     "cell_type": "code",
     "collapsed": false,
     "input": [
      "import os\n",
      "path = \"/tmp/ipython-test\"\n",
      "os.mkdir(path)"
     ],
     "language": "python",
     "metadata": {},
     "outputs": []
    },
    {
     "cell_type": "code",
     "collapsed": false,
     "input": [
      "os.listdir(\"/tmp\")"
     ],
     "language": "python",
     "metadata": {},
     "outputs": []
    },
    {
     "cell_type": "code",
     "collapsed": false,
     "input": [
      "os.path.exists(path), os.path.exists(\"/tmp/cat\")"
     ],
     "language": "python",
     "metadata": {},
     "outputs": []
    },
    {
     "cell_type": "code",
     "collapsed": false,
     "input": [
      "os.path.basename(path)"
     ],
     "language": "python",
     "metadata": {},
     "outputs": []
    },
    {
     "cell_type": "code",
     "collapsed": false,
     "input": [
      "filename = os.path.join(path, \"test-file.txt\")\n",
      "f = open(filename, 'w')\n",
      "f.write(\"its been a hard\\n days night\")\n",
      "f.close()"
     ],
     "language": "python",
     "metadata": {},
     "outputs": []
    },
    {
     "cell_type": "code",
     "collapsed": false,
     "input": [
      "os.path.splitext(filename)"
     ],
     "language": "python",
     "metadata": {},
     "outputs": []
    },
    {
     "cell_type": "code",
     "collapsed": false,
     "input": [
      "os.path.isfile(filename)"
     ],
     "language": "python",
     "metadata": {},
     "outputs": []
    },
    {
     "cell_type": "heading",
     "level": 3,
     "metadata": {},
     "source": [
      "sys"
     ]
    },
    {
     "cell_type": "markdown",
     "metadata": {},
     "source": [
      "system-specific parameters and functions"
     ]
    },
    {
     "cell_type": "code",
     "collapsed": false,
     "input": [
      "import sys\n",
      "sys.exit(0)"
     ],
     "language": "python",
     "metadata": {},
     "outputs": []
    },
    {
     "cell_type": "code",
     "collapsed": false,
     "input": [
      "sys.maxint"
     ],
     "language": "python",
     "metadata": {},
     "outputs": []
    },
    {
     "cell_type": "code",
     "collapsed": false,
     "input": [
      "print sys.version"
     ],
     "language": "python",
     "metadata": {},
     "outputs": []
    },
    {
     "cell_type": "heading",
     "level": 3,
     "metadata": {},
     "source": [
      "glob"
     ]
    },
    {
     "cell_type": "markdown",
     "metadata": {},
     "source": [
      "Unix style pathname pattern expansion"
     ]
    },
    {
     "cell_type": "code",
     "collapsed": false,
     "input": [
      "import glob\n",
      "glob.glob(os.path.join(path, \"*.txt\"))"
     ],
     "language": "python",
     "metadata": {},
     "outputs": []
    },
    {
     "cell_type": "code",
     "collapsed": false,
     "input": [
      "glob.glob(\"/var/a*\")"
     ],
     "language": "python",
     "metadata": {},
     "outputs": []
    },
    {
     "cell_type": "heading",
     "level": 3,
     "metadata": {},
     "source": [
      "logging"
     ]
    },
    {
     "cell_type": "markdown",
     "metadata": {},
     "source": [
      " logging facility for Python"
     ]
    },
    {
     "cell_type": "code",
     "collapsed": false,
     "input": [
      "import logging, sys\n",
      "\n",
      "# create the logger\n",
      "logger = logging.getLogger(\"lumberjack\")\n",
      "\n",
      "# bind a handler, in this case a stream handler that writes to stdout\n",
      "sh = logging.StreamHandler(stream=sys.stdout)\n",
      "\n",
      "# define a formatter for the output messages\n",
      "fmt = logging.Formatter('[%(levelname)s]: %(message)s')\n",
      "\n",
      "sh.setFormatter(fmt)\n",
      "logger.handlers = [sh]"
     ],
     "language": "python",
     "metadata": {},
     "outputs": []
    },
    {
     "cell_type": "code",
     "collapsed": false,
     "input": [
      "# Can set the level of messages reported\n",
      "logger.setLevel(logging.WARN)\n",
      "logger.debug(\"This is a debug message\")\n",
      "logger.info(\"This is an info message\")\n",
      "logger.warning(\"Watch it!\")"
     ],
     "language": "python",
     "metadata": {},
     "outputs": []
    },
    {
     "cell_type": "code",
     "collapsed": false,
     "input": [
      "logger.setLevel(logging.INFO)\n",
      "logger.debug(\"This is a debug message\")\n",
      "logger.info(\"This is an info message\")\n",
      "logger.warning(\"Watch it!\")"
     ],
     "language": "python",
     "metadata": {},
     "outputs": []
    },
    {
     "cell_type": "code",
     "collapsed": false,
     "input": [
      "logger.setLevel(logging.DEBUG)\n",
      "logger.debug(\"This is a debug message\")\n",
      "logger.info(\"This is an info message\")\n",
      "logger.warning(\"Watch it!\")"
     ],
     "language": "python",
     "metadata": {},
     "outputs": []
    },
    {
     "cell_type": "heading",
     "level": 3,
     "metadata": {},
     "source": [
      "argparse"
     ]
    },
    {
     "cell_type": "markdown",
     "metadata": {},
     "source": [
      "Parser for command-line options, arguments and sub-commands"
     ]
    },
    {
     "cell_type": "markdown",
     "metadata": {},
     "source": [
      "<i>see file:</i> `argparse_example.py`"
     ]
    },
    {
     "cell_type": "heading",
     "level": 3,
     "metadata": {},
     "source": [
      "datetime"
     ]
    },
    {
     "cell_type": "markdown",
     "metadata": {},
     "source": [
      "Basic date and time types"
     ]
    },
    {
     "cell_type": "code",
     "collapsed": false,
     "input": [
      "from datetime import datetime\n",
      "now = datetime.now()\n",
      "now"
     ],
     "language": "python",
     "metadata": {},
<<<<<<< HEAD
     "outputs": [
      {
       "output_type": "pyout",
       "prompt_number": 1,
       "text": [
        "datetime.datetime(2013, 7, 9, 9, 45, 20, 954188)"
       ]
      }
     ],
     "prompt_number": 1
=======
     "outputs": []
>>>>>>> 706f6ff5be34dd9aa98ec23af501b85a103da54a
    },
    {
     "cell_type": "code",
     "collapsed": false,
     "input": [
      "now.hour"
     ],
     "language": "python",
     "metadata": {},
<<<<<<< HEAD
     "outputs": [
      {
       "output_type": "pyout",
       "prompt_number": 2,
       "text": [
        "9"
       ]
      }
     ],
     "prompt_number": 2
=======
     "outputs": []
>>>>>>> 706f6ff5be34dd9aa98ec23af501b85a103da54a
    },
    {
     "cell_type": "code",
     "collapsed": false,
     "input": [
      "datetime.isoformat(now)"
     ],
     "language": "python",
     "metadata": {},
<<<<<<< HEAD
     "outputs": [
      {
       "output_type": "pyout",
       "prompt_number": 3,
       "text": [
        "'2013-07-09T09:45:20.954188'"
       ]
      }
     ],
     "prompt_number": 3
=======
     "outputs": []
>>>>>>> 706f6ff5be34dd9aa98ec23af501b85a103da54a
    },
    {
     "cell_type": "code",
     "collapsed": false,
     "input": [
      "datetime.utcnow()"
     ],
     "language": "python",
     "metadata": {},
<<<<<<< HEAD
     "outputs": [
      {
       "output_type": "pyout",
       "prompt_number": 5,
       "text": [
        "datetime.datetime(2013, 7, 9, 13, 45, 41, 298402)"
       ]
      }
     ],
     "prompt_number": 5
=======
     "outputs": []
>>>>>>> 706f6ff5be34dd9aa98ec23af501b85a103da54a
    },
    {
     "cell_type": "heading",
     "level": 3,
     "metadata": {},
     "source": [
      "random"
     ]
    },
    {
     "cell_type": "markdown",
     "metadata": {},
     "source": [
      "Generate pseudo-random numbers"
     ]
    },
    {
     "cell_type": "code",
     "collapsed": false,
     "input": [
      "import random\n",
      "fruit = ['apple', 'banana', 'carrot', 'elderberry']\n",
      "random.choice(fruit)"
     ],
     "language": "python",
     "metadata": {},
     "outputs": []
    },
    {
     "cell_type": "code",
     "collapsed": false,
     "input": [
      "random.shuffle(fruit)\n",
      "fruit"
     ],
     "language": "python",
     "metadata": {},
     "outputs": []
    },
    {
     "cell_type": "heading",
     "level": 3,
     "metadata": {},
     "source": [
      "urllib2"
     ]
    },
    {
     "cell_type": "markdown",
     "metadata": {},
     "source": [
      "extensible library for opening URLs"
     ]
    },
    {
     "cell_type": "code",
     "collapsed": false,
     "input": [
      "import urllib2\n",
      "response = urllib2.urlopen(\"http://deimos.astro.columbia.edu\")\n",
      "text = response.read()\n",
      "print text"
     ],
     "language": "python",
     "metadata": {},
<<<<<<< HEAD
     "outputs": [
      {
       "output_type": "stream",
       "stream": "stdout",
       "text": [
        "<html>\n",
        "  <body>\n",
        "    <h1>;dsalfn94p24in2465246524./;24;,.,24['.2'.422154242544</h1>\n",
        "  </body>\n",
        "</html>\n",
        "\n"
       ]
      }
     ],
     "prompt_number": 7
    },
    {
     "cell_type": "code",
     "collapsed": false,
     "input": [
      "from IPython.display import HTML\n",
      "HTML(text)"
     ],
     "language": "python",
     "metadata": {},
     "outputs": [
      {
       "html": [
        "<html>\n",
        "  <body>\n",
        "    <h1>;dsalfn94p24in2465246524./;24;,.,24['.2'.422154242544</h1>\n",
        "  </body>\n",
        "</html>\n"
       ],
       "output_type": "pyout",
       "prompt_number": 8,
       "text": [
        "<IPython.core.display.HTML at 0x10649ad50>"
       ]
      }
     ],
     "prompt_number": 8
=======
     "outputs": []
>>>>>>> 706f6ff5be34dd9aa98ec23af501b85a103da54a
    },
    {
     "cell_type": "markdown",
     "metadata": {},
     "source": [
      "A more sophisticated example (makes use of `json` and plotting, but just to show a real use case!)"
     ]
    },
    {
     "cell_type": "code",
     "collapsed": false,
     "input": [
      "import json\n",
      "sdss_api_url = \"http://api.sdss3.org/spectrum?id=boss.3588.55184.511.v5_4_45&format=json\"\n",
      "response = urllib2.urlopen(sdss_api_url)\n",
      "\n",
      "# parse the returned JSON object into a Python dictionary\n",
      "spectrum = json.load(response)"
     ],
     "language": "python",
     "metadata": {},
     "outputs": []
    },
    {
     "cell_type": "code",
     "collapsed": false,
     "input": [
      "figsize(12,6)\n",
      "plot(spectrum['boss.3588.55184.511.v5_4_45']['wavelengths'],\n",
      "     spectrum['boss.3588.55184.511.v5_4_45']['flux'],\n",
      "     marker=None, drawstyle='steps')\n",
      "title(spectrum['boss.3588.55184.511.v5_4_45']['spectro_class'])\n",
      "xlim(4000, 5000)"
     ],
     "language": "python",
     "metadata": {},
     "outputs": []
    },
    {
     "cell_type": "heading",
     "level": 3,
     "metadata": {},
     "source": [
      "multiprocessing"
     ]
    },
    {
     "cell_type": "markdown",
     "metadata": {},
     "source": [
      "Run code over multiple CPUs"
     ]
    },
    {
     "cell_type": "markdown",
     "metadata": {},
     "source": [
      "<i>see file:</i> `multiprocessing_example.py`"
     ]
    },
    {
     "cell_type": "heading",
     "level": 3,
     "metadata": {},
     "source": [
      "pickle"
     ]
    },
    {
     "cell_type": "markdown",
     "metadata": {},
     "source": [
      "Save objects to disk, to be accessed later."
     ]
    },
    {
     "cell_type": "code",
     "collapsed": false,
     "input": [
      "import cPickle as pickle # cPickle is faster than pickle\n",
      "a = dict()\n",
      "a['robert'] = 15\n",
      "a['paulson'] = 21"
     ],
     "language": "python",
     "metadata": {},
     "outputs": []
    },
    {
     "cell_type": "code",
     "collapsed": false,
     "input": [
      "with open('my_object.pickle','w') as f:\n",
      "    pickle.dump(a, f)"
     ],
     "language": "python",
     "metadata": {},
     "outputs": []
    },
    {
     "cell_type": "markdown",
     "metadata": {},
     "source": [
      "-------"
     ]
    },
    {
     "cell_type": "heading",
     "level": 2,
     "metadata": {},
     "source": [
      "Exceptions and error handling"
     ]
    },
    {
     "cell_type": "markdown",
     "metadata": {},
     "source": [
      "One of the most useful things to learn early when starting to program is how to\n",
      "read, interpret, and handle exceptions and error messages. Here we'll first take\n",
      "a look at some of the more common errors (e.g., `SyntaxError`, `NameError`, `ValueError`, `TypeError`), and then learn how to anticipate exceptions and improve error reporting within your own code."
     ]
    },
    {
     "cell_type": "code",
     "collapsed": false,
     "input": [
      "garbage("
     ],
     "language": "python",
     "metadata": {},
     "outputs": []
    },
    {
     "cell_type": "code",
     "collapsed": false,
     "input": [
      "not_defined"
     ],
     "language": "python",
     "metadata": {},
     "outputs": []
    },
    {
     "cell_type": "code",
     "collapsed": false,
     "input": [
      "math.log(-14)"
     ],
     "language": "python",
     "metadata": {},
     "outputs": []
    },
    {
     "cell_type": "code",
     "collapsed": false,
     "input": [
      "list(51)"
     ],
     "language": "python",
     "metadata": {},
     "outputs": []
    },
    {
     "cell_type": "code",
     "collapsed": false,
     "input": [
      "def my_function(a):\n",
      "    try:\n",
      "        list(a)\n",
      "    except TypeError:\n",
      "        raise TypeError(\"More descriptive error message...\")\n",
      "\n",
      "my_function(51)"
     ],
     "language": "python",
     "metadata": {},
     "outputs": []
    },
    {
     "cell_type": "markdown",
     "metadata": {},
     "source": [
      "-----"
     ]
    }
   ],
   "metadata": {}
  }
 ]
}