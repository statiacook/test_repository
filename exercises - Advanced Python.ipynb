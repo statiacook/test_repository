{
 "metadata": {
  "name": "exercises - Advanced Python"
 },
 "nbformat": 3,
 "nbformat_minor": 0,
 "worksheets": [
  {
   "cells": [
    {
     "cell_type": "heading",
     "level": 1,
     "metadata": {},
     "source": [
      "Python B"
     ]
    },
    {
     "cell_type": "markdown",
     "metadata": {},
     "source": [
      "__1)__ Find the log of the sqrt of the list: `range(10, 20)`"
     ]
    },
    {
     "cell_type": "code",
     "collapsed": false,
     "input": [
      "import math\n",
      "for x in range(10,20):\n",
      "    print math.log(math.sqrt(x))"
     ],
     "language": "python",
     "metadata": {},
     "outputs": [
      {
       "output_type": "stream",
       "stream": "stdout",
       "text": [
        "1.1512925465\n",
        "1.1989476364\n",
        "1.24245332489\n",
        "1.28247467873\n",
        "1.31952866481\n",
        "1.35402510055\n",
        "1.38629436112\n",
        "1.41660667203\n",
        "1.44518587895\n",
        "1.47221948958\n"
       ]
      }
     ],
     "prompt_number": 14
    },
    {
     "cell_type": "code",
     "collapsed": false,
     "input": [],
     "language": "python",
     "metadata": {},
     "outputs": [
      {
       "output_type": "stream",
       "stream": "stdout",
       "text": [
        "0\n",
        "1\n",
        "2\n",
        "3\n",
        "4\n",
        "5\n",
        "6\n",
        "7\n",
        "8\n",
        "9\n"
       ]
      }
     ],
     "prompt_number": 4
    },
    {
     "cell_type": "markdown",
     "metadata": {},
     "source": [
      "__2)__ Find all files that start with \"a\" in your Documents folder (don't use glob)"
     ]
    },
    {
     "cell_type": "code",
     "collapsed": false,
     "input": [],
     "language": "python",
     "metadata": {},
     "outputs": [],
     "prompt_number": 22
    },
    {
     "cell_type": "markdown",
     "metadata": {},
     "source": [
      "__3)__ Find all .txt files in your Documents folder (don't use glob)"
     ]
    },
    {
     "cell_type": "code",
     "collapsed": false,
     "input": [
      "#import os\n",
      "#os.path.splittext('blah.txt')"
     ],
     "language": "python",
     "metadata": {},
     "outputs": [
      {
       "ename": "AttributeError",
       "evalue": "'module' object has no attribute 'splittext'",
       "output_type": "pyerr",
       "traceback": [
        "\u001b[0;31m---------------------------------------------------------------------------\u001b[0m\n\u001b[0;31mAttributeError\u001b[0m                            Traceback (most recent call last)",
        "\u001b[0;32m<ipython-input-184-f0fa14a17357>\u001b[0m in \u001b[0;36m<module>\u001b[0;34m()\u001b[0m\n\u001b[1;32m      1\u001b[0m \u001b[0;32mimport\u001b[0m \u001b[0mos\u001b[0m\u001b[0;34m\u001b[0m\u001b[0m\n\u001b[0;32m----> 2\u001b[0;31m \u001b[0mos\u001b[0m\u001b[0;34m.\u001b[0m\u001b[0mpath\u001b[0m\u001b[0;34m.\u001b[0m\u001b[0msplittext\u001b[0m\u001b[0;34m(\u001b[0m\u001b[0;34m'blah.txt'\u001b[0m\u001b[0;34m)\u001b[0m\u001b[0;34m\u001b[0m\u001b[0m\n\u001b[0m",
        "\u001b[0;31mAttributeError\u001b[0m: 'module' object has no attribute 'splittext'"
       ]
      }
     ],
     "prompt_number": 184
    },
    {
     "cell_type": "markdown",
     "metadata": {},
     "source": [
      "__4)__ Are you on a 32-bit or 64-bit computer? Use `sys` and `math` to figure that out!"
     ]
    },
    {
     "cell_type": "code",
     "collapsed": false,
     "input": [
      "import sys, math,platform\n",
      "platform.architecture()"
     ],
     "language": "python",
     "metadata": {},
     "outputs": [
      {
       "output_type": "pyout",
       "prompt_number": 20,
       "text": [
        "('64bit', '')"
       ]
      }
     ],
     "prompt_number": 20
    },
    {
     "cell_type": "code",
     "collapsed": false,
     "input": [
      "import sys,math\n",
      "#math.log10(sys.maxint"
     ],
     "language": "python",
     "metadata": {},
     "outputs": []
    },
    {
     "cell_type": "markdown",
     "metadata": {},
     "source": [
      "__5)__ Redo 2) and 3) using the `glob` module. "
     ]
    },
    {
     "cell_type": "code",
     "collapsed": false,
     "input": [
      "import glob\n",
      "glob.glob(\"/Users/statia/Documents/a*\")"
     ],
     "language": "python",
     "metadata": {},
     "outputs": [
      {
       "output_type": "pyout",
       "prompt_number": 21,
       "text": [
        "['/Users/statia/Documents/acknowledgements.docx',\n",
        " '/Users/statia/Documents/atran.plt.22497.dat.txt',\n",
        " '/Users/statia/Documents/atran.plt.22987.dat.txt']"
       ]
      }
     ],
     "prompt_number": 21
    },
    {
     "cell_type": "code",
     "collapsed": false,
     "input": [
      "glob.glob(\"/Users/statia/Documents/*.txt\")"
     ],
     "language": "python",
     "metadata": {},
     "outputs": [
      {
       "output_type": "pyout",
       "prompt_number": 22,
       "text": [
        "['/Users/statia/Documents/atran.plt.22497.dat.txt',\n",
        " '/Users/statia/Documents/atran.plt.22987.dat.txt']"
       ]
      }
     ],
     "prompt_number": 22
    },
    {
     "cell_type": "markdown",
     "metadata": {},
     "source": [
      "__6)__ In a separate script _not in the notebook_, write a script that accepts two numbers as command line arguments: `r1` and `r2`. Compute the difference in volume between a sphere with radius `r1` vs `r2`, and use a logger to log this value as an INFO message. (DONE: spherediff.py)"
     ]
    },
    {
     "cell_type": "markdown",
     "metadata": {},
     "source": [
      "__7.1)__ Use the `datetime` module to find the current day of the week. "
     ]
    },
    {
     "cell_type": "code",
     "collapsed": false,
     "input": [
      "days=['M','T','W','R','F','Sa','Su']\n",
      "from datetime import datetime\n",
      "days[datetime.now().weekday()]\n"
     ],
     "language": "python",
     "metadata": {},
     "outputs": [
      {
       "output_type": "pyout",
       "prompt_number": 43,
       "text": [
        "'T'"
       ]
      }
     ],
     "prompt_number": 43
    },
    {
     "cell_type": "markdown",
     "metadata": {},
     "source": [
      "__7.2)__ Write a function that accepts a `datetime` object, and returns the day of the week as a string (e.g., 'Friday')."
     ]
    },
    {
     "cell_type": "code",
     "collapsed": false,
     "input": [
      "def dayofweek(now):\n",
      "    days=['Monday','Tuesday','Wednesday','Thursday','Friday','Saturday','Sunday']\n",
      "    return days[now.weekday()]"
     ],
     "language": "python",
     "metadata": {},
     "outputs": [],
     "prompt_number": 49
    },
    {
     "cell_type": "code",
     "collapsed": false,
     "input": [
      "dayofweek(datetime.now())\n"
     ],
     "language": "python",
     "metadata": {},
     "outputs": [
      {
       "output_type": "pyout",
       "prompt_number": 50,
       "text": [
        "'Tuesday'"
       ]
      }
     ],
     "prompt_number": 50
    },
    {
     "cell_type": "markdown",
     "metadata": {},
     "source": [
      "__7.3)__ Write a function that accepts a person's birthday, and prints their age, and number of days, hours, and minutes until midnight of their next birthday."
     ]
    },
    {
     "cell_type": "code",
     "collapsed": false,
     "input": [
      "def birthdayfacts(year,month,day):\n",
      "    now=datetime.now()\n",
      "    if now.month > month:\n",
      "        age= now.year-year\n",
      "    else:\n",
      "        if now.month == month:\n",
      "            if now.day - day >0:\n",
      "                age=now.year-year\n",
      "            else:\n",
      "                age= now.year-year-1\n",
      "        else:\n",
      "            age= now.year-year-1\n",
      "    print \"Your age is :{0}\".format(age)\n",
      "    nextbirthday=datetime(now.year,month,day,0,0,0)\n",
      "    timetogo= nextbirthday-now\n",
      "    if timetogo.days < 0:\n",
      "            nextbirthday=datetime(now.year+1,month,day,0,0,0)\n",
      "    waittime=nextbirthday-now\n",
      "    print \"Time until next birthday: {}\".format(waittime)"
     ],
     "language": "python",
     "metadata": {},
     "outputs": [],
     "prompt_number": 181
    },
    {
     "cell_type": "code",
     "collapsed": false,
     "input": [
      "birthdayfacts(1984,7,6)"
     ],
     "language": "python",
     "metadata": {},
     "outputs": [
      {
       "output_type": "stream",
       "stream": "stdout",
       "text": [
        "Your age is :29\n",
        "Time until next birthday: 361 days, 12:20:43.968224\n"
       ]
      }
     ],
     "prompt_number": 182
    },
    {
     "cell_type": "markdown",
     "metadata": {},
     "source": [
      "__8)__ Write a function that accepts, as a variable-length list of arguments, a list of someone's favorite restaurants, then returns a random restaurant from the list."
     ]
    },
    {
     "cell_type": "code",
     "collapsed": false,
     "input": [
      "def whatsforlunch(*restaurants):\n",
      "#def whatsforlunch(restaurants):\n",
      "    import random\n",
      "    return random.choice(restaurants)\n",
      "# I didn't do this right, should be accepting a variable length list of arguments\n",
      "    #return random.choice([restaurants])\n"
     ],
     "language": "python",
     "metadata": {},
     "outputs": [],
     "prompt_number": 197
    },
    {
     "cell_type": "code",
     "collapsed": false,
     "input": [
      "restaurants=['Yumyum','Chinese','Pizza','Thai']\n",
      "#print whatsforlunch(restaurants)\n",
      "print whatsforlunch('Yumyum','Chinese','Pizza','Thai')"
     ],
     "language": "python",
     "metadata": {},
     "outputs": [
      {
       "output_type": "stream",
       "stream": "stdout",
       "text": [
        "Chinese\n"
       ]
      }
     ],
     "prompt_number": 199
    },
    {
     "cell_type": "markdown",
     "metadata": {},
     "source": [
      "__9)__ Use `urllib2` to ??"
     ]
    },
    {
     "cell_type": "code",
     "collapsed": false,
     "input": [],
     "language": "python",
     "metadata": {},
     "outputs": []
    },
    {
     "cell_type": "markdown",
     "metadata": {},
     "source": [
      "__10.1)__ Write a function that gets the 5th item in an iterable object (e.g., a list or array)"
     ]
    },
    {
     "cell_type": "code",
     "collapsed": false,
     "input": [
      "def fifthitem(itemlist):\n",
      "    return itemlist[4]"
     ],
     "language": "python",
     "metadata": {},
     "outputs": [],
     "prompt_number": 92
    },
    {
     "cell_type": "code",
     "collapsed": false,
     "input": [
      "print fifthitem(range(10))\n",
      "print fifthitem(['cow','chipmunk','horse','lobster','monkey','zebra','fish'])"
     ],
     "language": "python",
     "metadata": {},
     "outputs": [
      {
       "output_type": "stream",
       "stream": "stdout",
       "text": [
        "4\n",
        "monkey\n"
       ]
      }
     ],
     "prompt_number": 93
    },
    {
     "cell_type": "markdown",
     "metadata": {},
     "source": [
      "__10.2)__ Now pass in an integer to the function - what happens? What if you pass in the list `[0,1,2]`?"
     ]
    },
    {
     "cell_type": "code",
     "collapsed": false,
     "input": [
      "fifthitem(3)"
     ],
     "language": "python",
     "metadata": {},
     "outputs": [
      {
       "ename": "TypeError",
       "evalue": "'int' object has no attribute '__getitem__'",
       "output_type": "pyerr",
       "traceback": [
        "\u001b[0;31m---------------------------------------------------------------------------\u001b[0m\n\u001b[0;31mTypeError\u001b[0m                                 Traceback (most recent call last)",
        "\u001b[0;32m<ipython-input-94-4ead5074d627>\u001b[0m in \u001b[0;36m<module>\u001b[0;34m()\u001b[0m\n\u001b[0;32m----> 1\u001b[0;31m \u001b[0mfifthitem\u001b[0m\u001b[0;34m(\u001b[0m\u001b[0;36m3\u001b[0m\u001b[0;34m)\u001b[0m\u001b[0;34m\u001b[0m\u001b[0m\n\u001b[0m",
        "\u001b[0;32m<ipython-input-92-578dfe32794d>\u001b[0m in \u001b[0;36mfifthitem\u001b[0;34m(itemlist)\u001b[0m\n\u001b[1;32m      1\u001b[0m \u001b[0;32mdef\u001b[0m \u001b[0mfifthitem\u001b[0m\u001b[0;34m(\u001b[0m\u001b[0mitemlist\u001b[0m\u001b[0;34m)\u001b[0m\u001b[0;34m:\u001b[0m\u001b[0;34m\u001b[0m\u001b[0m\n\u001b[0;32m----> 2\u001b[0;31m     \u001b[0;32mreturn\u001b[0m \u001b[0mitemlist\u001b[0m\u001b[0;34m[\u001b[0m\u001b[0;36m4\u001b[0m\u001b[0;34m]\u001b[0m\u001b[0;34m\u001b[0m\u001b[0m\n\u001b[0m",
        "\u001b[0;31mTypeError\u001b[0m: 'int' object has no attribute '__getitem__'"
       ]
      }
     ],
     "prompt_number": 94
    },
    {
     "cell_type": "code",
     "collapsed": false,
     "input": [
      "fifthitem([0,1,2])"
     ],
     "language": "python",
     "metadata": {},
     "outputs": [
      {
       "ename": "IndexError",
       "evalue": "list index out of range",
       "output_type": "pyerr",
       "traceback": [
        "\u001b[0;31m---------------------------------------------------------------------------\u001b[0m\n\u001b[0;31mIndexError\u001b[0m                                Traceback (most recent call last)",
        "\u001b[0;32m<ipython-input-95-2cb477d92de6>\u001b[0m in \u001b[0;36m<module>\u001b[0;34m()\u001b[0m\n\u001b[0;32m----> 1\u001b[0;31m \u001b[0mfifthitem\u001b[0m\u001b[0;34m(\u001b[0m\u001b[0;34m[\u001b[0m\u001b[0;36m0\u001b[0m\u001b[0;34m,\u001b[0m\u001b[0;36m1\u001b[0m\u001b[0;34m,\u001b[0m\u001b[0;36m2\u001b[0m\u001b[0;34m]\u001b[0m\u001b[0;34m)\u001b[0m\u001b[0;34m\u001b[0m\u001b[0m\n\u001b[0m",
        "\u001b[0;32m<ipython-input-92-578dfe32794d>\u001b[0m in \u001b[0;36mfifthitem\u001b[0;34m(itemlist)\u001b[0m\n\u001b[1;32m      1\u001b[0m \u001b[0;32mdef\u001b[0m \u001b[0mfifthitem\u001b[0m\u001b[0;34m(\u001b[0m\u001b[0mitemlist\u001b[0m\u001b[0;34m)\u001b[0m\u001b[0;34m:\u001b[0m\u001b[0;34m\u001b[0m\u001b[0m\n\u001b[0;32m----> 2\u001b[0;31m     \u001b[0;32mreturn\u001b[0m \u001b[0mitemlist\u001b[0m\u001b[0;34m[\u001b[0m\u001b[0;36m4\u001b[0m\u001b[0;34m]\u001b[0m\u001b[0;34m\u001b[0m\u001b[0m\n\u001b[0m",
        "\u001b[0;31mIndexError\u001b[0m: list index out of range"
       ]
      }
     ],
     "prompt_number": 95
    },
    {
     "cell_type": "markdown",
     "metadata": {},
     "source": [
      "__10.3)__ Modify your function to catch what you think could be some common exceptions, and re-raise the same exception with a nicer error message."
     ]
    },
    {
     "cell_type": "code",
     "collapsed": false,
     "input": [
      "def fifthitem(itemlist):\n",
      "    import math,logging,sys\n",
      "    # create logger\n",
      "    logger = logging.getLogger(__name__)\n",
      "    # define a handler to write log messages to stdout\n",
      "    sh = logging.StreamHandler(stream=sys.stdout)\n",
      "    # define the format for the log messages, here: \"level name: message\"\n",
      "    formatter = logging.Formatter(\"[%(levelname)s]: %(message)s\")\n",
      "    sh.setFormatter(formatter)\n",
      "    logger.addHandler(sh)\n",
      "    logger.setLevel(logging.INFO)\n",
      "    try:\n",
      "        out = itemlist[4]\n",
      "    except TypeError:\n",
      "        print \"Input must be an iterable object (list or array)\"\n",
      "        sys.exit(1)\n",
      "    except IndexError:\n",
      "        print \"Input must be at least 5 items long...\"\n",
      "        sys.exit(1)\n",
      "        \n",
      "    return out"
     ],
     "language": "python",
     "metadata": {},
     "outputs": [],
     "prompt_number": 116
    },
    {
     "cell_type": "code",
     "collapsed": false,
     "input": [
      "fifthitem(3)"
     ],
     "language": "python",
     "metadata": {},
     "outputs": [
      {
       "ename": "SystemExit",
       "evalue": "1",
       "output_type": "pyerr",
       "traceback": [
        "An exception has occurred, use %tb to see the full traceback.\n",
        "\u001b[0;31mSystemExit\u001b[0m\u001b[0;31m:\u001b[0m 1\n"
       ]
      },
      {
       "output_type": "stream",
       "stream": "stdout",
       "text": [
        "Input must be an iterable object (list or array)\n"
       ]
      },
      {
       "output_type": "stream",
       "stream": "stderr",
       "text": [
        "To exit: use 'exit', 'quit', or Ctrl-D."
       ]
      }
     ],
     "prompt_number": 117
    },
    {
     "cell_type": "code",
     "collapsed": false,
     "input": [
      "fifthitem([0,1,2])"
     ],
     "language": "python",
     "metadata": {},
     "outputs": [
      {
       "ename": "SystemExit",
       "evalue": "1",
       "output_type": "pyerr",
       "traceback": [
        "An exception has occurred, use %tb to see the full traceback.\n",
        "\u001b[0;31mSystemExit\u001b[0m\u001b[0;31m:\u001b[0m 1\n"
       ]
      },
      {
       "output_type": "stream",
       "stream": "stdout",
       "text": [
        "Input must be at least 5 items long...\n"
       ]
      },
      {
       "output_type": "stream",
       "stream": "stderr",
       "text": [
        "To exit: use 'exit', 'quit', or Ctrl-D."
       ]
      }
     ],
     "prompt_number": 118
    },
    {
     "cell_type": "code",
     "collapsed": false,
     "input": [
      "fifthitem(['cow','chipmunk','horse','lobster','monkey','zebra','fish'])"
     ],
     "language": "python",
     "metadata": {},
     "outputs": [
      {
       "output_type": "pyout",
       "prompt_number": 119,
       "text": [
        "'monkey'"
       ]
      }
     ],
     "prompt_number": 119
    },
    {
     "cell_type": "code",
     "collapsed": false,
     "input": [],
     "language": "python",
     "metadata": {},
     "outputs": []
    }
   ],
   "metadata": {}
  }
 ]
}