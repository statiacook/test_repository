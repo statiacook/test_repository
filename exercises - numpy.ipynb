{
 "metadata": {
  "name": "exercises - numpy"
 },
 "nbformat": 3,
 "nbformat_minor": 0,
 "worksheets": [
  {
   "cells": [
    {
     "cell_type": "markdown",
     "metadata": {},
     "source": [
      "__1)__ Create a one-dimensional array, print the `length` and `shape` of the array"
     ]
    },
    {
     "cell_type": "code",
     "collapsed": false,
     "input": [
      "import numpy as np\n",
      "a=np.arange(100)\n",
      "print a.size\n",
      "print a.shape"
     ],
     "language": "python",
     "metadata": {},
     "outputs": [
      {
       "output_type": "stream",
       "stream": "stdout",
       "text": [
        "100\n",
        "(100,)\n"
       ]
      }
     ],
     "prompt_number": 2
    },
    {
     "cell_type": "markdown",
     "metadata": {},
     "source": [
      "__2)__ Create a two-dimensional array, print the `length` and `shape` of the array"
     ]
    },
    {
     "cell_type": "code",
     "collapsed": false,
     "input": [
      "b=np.random.normal(2,.5,size=(7,7))\n",
      "print b.size\n",
      "print b.shape"
     ],
     "language": "python",
     "metadata": {},
     "outputs": [
      {
       "output_type": "stream",
       "stream": "stdout",
       "text": [
        "49\n",
        "(7, 7)\n"
       ]
      }
     ],
     "prompt_number": 4
    },
    {
     "cell_type": "markdown",
     "metadata": {},
     "source": [
      "__3)__ Add the two arrays created above -- what happens?"
     ]
    },
    {
     "cell_type": "code",
     "collapsed": false,
     "input": [
      "c=a+b"
     ],
     "language": "python",
     "metadata": {},
     "outputs": [
      {
       "ename": "ValueError",
       "evalue": "operands could not be broadcast together with shapes (100) (7,7) ",
       "output_type": "pyerr",
       "traceback": [
        "\u001b[0;31m---------------------------------------------------------------------------\u001b[0m\n\u001b[0;31mValueError\u001b[0m                                Traceback (most recent call last)",
        "\u001b[0;32m<ipython-input-5-373dee6de307>\u001b[0m in \u001b[0;36m<module>\u001b[0;34m()\u001b[0m\n\u001b[0;32m----> 1\u001b[0;31m \u001b[0mc\u001b[0m\u001b[0;34m=\u001b[0m\u001b[0ma\u001b[0m\u001b[0;34m+\u001b[0m\u001b[0mb\u001b[0m\u001b[0;34m\u001b[0m\u001b[0m\n\u001b[0m",
        "\u001b[0;31mValueError\u001b[0m: operands could not be broadcast together with shapes (100) (7,7) "
       ]
      }
     ],
     "prompt_number": 5
    },
    {
     "cell_type": "markdown",
     "metadata": {},
     "source": [
      "__4)__ Create a 100 x 100 array of integers, and trim off the top/bottom rows, and left/right columns"
     ]
    },
    {
     "cell_type": "code",
     "collapsed": false,
     "input": [
      "d=np.array(np.arange(100*100)).reshape(100,100)\n",
      "dtrim=d[1:99,1:99]\n",
      "print d.shape\n",
      "print dtrim.shape\n",
      "print d\n",
      "print dtrim"
     ],
     "language": "python",
     "metadata": {},
     "outputs": [
      {
       "output_type": "stream",
       "stream": "stdout",
       "text": [
        "(100, 100)\n",
        "(98, 98)\n",
        "[[   0    1    2 ...,   97   98   99]\n",
        " [ 100  101  102 ...,  197  198  199]\n",
        " [ 200  201  202 ...,  297  298  299]\n",
        " ..., \n",
        " [9700 9701 9702 ..., 9797 9798 9799]\n",
        " [9800 9801 9802 ..., 9897 9898 9899]\n",
        " [9900 9901 9902 ..., 9997 9998 9999]]\n",
        "[[ 101  102  103 ...,  196  197  198]\n",
        " [ 201  202  203 ...,  296  297  298]\n",
        " [ 301  302  303 ...,  396  397  398]\n",
        " ..., \n",
        " [9601 9602 9603 ..., 9696 9697 9698]\n",
        " [9701 9702 9703 ..., 9796 9797 9798]\n",
        " [9801 9802 9803 ..., 9896 9897 9898]]\n"
       ]
      }
     ],
     "prompt_number": 10
    },
    {
     "cell_type": "markdown",
     "metadata": {},
     "source": [
      "__5)__ Write out and use an index array to select out positive values from this array\n",
      "\n",
      "    np.array([1, -1, -2, 3, -5])"
     ]
    },
    {
     "cell_type": "code",
     "collapsed": false,
     "input": [
      "e=np.array([1, -1, -2, 3, -5])\n",
      "ind=[e >0]\n",
      "print e[ind]"
     ],
     "language": "python",
     "metadata": {},
     "outputs": [
      {
       "output_type": "stream",
       "stream": "stdout",
       "text": [
        "[1 3]\n"
       ]
      }
     ],
     "prompt_number": 12
    },
    {
     "cell_type": "markdown",
     "metadata": {},
     "source": [
      "__6)__ Experiment with `arange`, `ones`, and `zeros` to create arrays of different shapes"
     ]
    },
    {
     "cell_type": "code",
     "collapsed": false,
     "input": [
      "f=np.zeros((5,5,3))\n",
      "f"
     ],
     "language": "python",
     "metadata": {},
     "outputs": [
      {
       "output_type": "pyout",
       "prompt_number": 14,
       "text": [
        "array([[[ 0.,  0.,  0.],\n",
        "        [ 0.,  0.,  0.],\n",
        "        [ 0.,  0.,  0.],\n",
        "        [ 0.,  0.,  0.],\n",
        "        [ 0.,  0.,  0.]],\n",
        "\n",
        "       [[ 0.,  0.,  0.],\n",
        "        [ 0.,  0.,  0.],\n",
        "        [ 0.,  0.,  0.],\n",
        "        [ 0.,  0.,  0.],\n",
        "        [ 0.,  0.,  0.]],\n",
        "\n",
        "       [[ 0.,  0.,  0.],\n",
        "        [ 0.,  0.,  0.],\n",
        "        [ 0.,  0.,  0.],\n",
        "        [ 0.,  0.,  0.],\n",
        "        [ 0.,  0.,  0.]],\n",
        "\n",
        "       [[ 0.,  0.,  0.],\n",
        "        [ 0.,  0.,  0.],\n",
        "        [ 0.,  0.,  0.],\n",
        "        [ 0.,  0.,  0.],\n",
        "        [ 0.,  0.,  0.]],\n",
        "\n",
        "       [[ 0.,  0.,  0.],\n",
        "        [ 0.,  0.,  0.],\n",
        "        [ 0.,  0.,  0.],\n",
        "        [ 0.,  0.,  0.],\n",
        "        [ 0.,  0.,  0.]]])"
       ]
      }
     ],
     "prompt_number": 14
    },
    {
     "cell_type": "code",
     "collapsed": false,
     "input": [
      "g=np.ones((2,3,2))\n",
      "g"
     ],
     "language": "python",
     "metadata": {},
     "outputs": [
      {
       "output_type": "pyout",
       "prompt_number": 17,
       "text": [
        "array([[[ 1.,  1.],\n",
        "        [ 1.,  1.],\n",
        "        [ 1.,  1.]],\n",
        "\n",
        "       [[ 1.,  1.],\n",
        "        [ 1.,  1.],\n",
        "        [ 1.,  1.]]])"
       ]
      }
     ],
     "prompt_number": 17
    },
    {
     "cell_type": "markdown",
     "metadata": {},
     "source": [
      "__7)__ Using a boolean array mask, select out the elements of the following array between 5 and 10:\n",
      "\n",
      "    np.array([0.6429498677659073, 1.150547235455569, 1.1915607017440888, 8.283179653420964, 5.1635384867953595, 8.06221365954315, 5.941607350505754, 9.426996923221827, 9.828300195624534, 8.061581259382875, 9.350471376998248, 2.5337332496612266, 3.8933693630535062, 7.854245437743151, 0.7965058455412621, 2.7207245408915623, 4.693244676240291, 1.3620057998648716, 8.880004623574631, 6.504379354779315])"
     ]
    },
    {
     "cell_type": "code",
     "collapsed": false,
     "input": [
      "h=np.array([0.6429498677659073, 1.150547235455569, 1.1915607017440888, 8.283179653420964, 5.1635384867953595, 8.06221365954315, 5.941607350505754, 9.426996923221827, 9.828300195624534, 8.061581259382875, 9.350471376998248, 2.5337332496612266, 3.8933693630535062, 7.854245437743151, 0.7965058455412621, 2.7207245408915623, 4.693244676240291, 1.3620057998648716, 8.880004623574631, 6.504379354779315])\n",
      "ind=[(h>5) & (h<10)]\n",
      "h_inrange=h[ind]\n",
      "h_inrange"
     ],
     "language": "python",
     "metadata": {},
     "outputs": [
      {
       "output_type": "pyout",
       "prompt_number": 18,
       "text": [
        "array([ 8.28317965,  5.16353849,  8.06221366,  5.94160735,  9.42699692,\n",
        "        9.8283002 ,  8.06158126,  9.35047138,  7.85424544,  8.88000462,\n",
        "        6.50437935])"
       ]
      }
     ],
     "prompt_number": 18
    },
    {
     "cell_type": "markdown",
     "metadata": {},
     "source": [
      "__8)__ Create the following arrays:"
     ]
    },
    {
     "cell_type": "raw",
     "metadata": {},
     "source": [
      "[[1, 1, 1, 1],\n",
      " [1, 1, 1, 1],\n",
      " [1, 1, 1, 2],\n",
      " [1, 6, 1, 1]]\n",
      "\n",
      "[[1., 0., 0., 0., 0.],\n",
      " [0., 2., 0., 0., 0.],\n",
      " [0., 0., 3., 0., 0.],\n",
      " [0., 0., 0., 4., 0.],\n",
      " [0., 0., 0., 0., 5.]]"
     ]
    },
    {
     "cell_type": "code",
     "collapsed": false,
     "input": [
      "j=np.ones((4,4))\n",
      "j[2,3]=2\n",
      "j[3,1]=6\n",
      "j"
     ],
     "language": "python",
     "metadata": {},
     "outputs": [
      {
       "output_type": "pyout",
       "prompt_number": 25,
       "text": [
        "array([[ 1.,  1.,  1.,  1.],\n",
        "       [ 1.,  1.,  1.,  1.],\n",
        "       [ 1.,  1.,  1.,  2.],\n",
        "       [ 1.,  6.,  1.,  1.]])"
       ]
      }
     ],
     "prompt_number": 25
    },
    {
     "cell_type": "code",
     "collapsed": false,
     "input": [
      "k=np.identity(5)*np.arange(1,6)\n",
      "k"
     ],
     "language": "python",
     "metadata": {},
     "outputs": [
      {
       "output_type": "pyout",
       "prompt_number": 39,
       "text": [
        "array([[ 1.,  0.,  0.,  0.,  0.],\n",
        "       [ 0.,  2.,  0.,  0.,  0.],\n",
        "       [ 0.,  0.,  3.,  0.,  0.],\n",
        "       [ 0.,  0.,  0.,  4.,  0.],\n",
        "       [ 0.,  0.,  0.,  0.,  5.]])"
       ]
      }
     ],
     "prompt_number": 39
    },
    {
     "cell_type": "code",
     "collapsed": false,
     "input": [],
     "language": "python",
     "metadata": {},
     "outputs": [
      {
       "output_type": "stream",
       "stream": "stdout",
       "text": [
        "[1 2 3 4 5]\n"
       ]
      }
     ],
     "prompt_number": 38
    },
    {
     "cell_type": "code",
     "collapsed": false,
     "input": [],
     "language": "python",
     "metadata": {},
     "outputs": []
    },
    {
     "cell_type": "markdown",
     "metadata": {},
     "source": [
      "__9.1)__ Create a length 1000 array of `True` values called `primes`"
     ]
    },
    {
     "cell_type": "code",
     "collapsed": false,
     "input": [
      "primes=np.ones(1000) >0"
     ],
     "language": "python",
     "metadata": {},
     "outputs": [],
     "prompt_number": 42
    },
    {
     "cell_type": "markdown",
     "metadata": {},
     "source": [
      "__9.2)__ The position in the array -- the value of the index at a position -- represents that number. Set all numbers that aren't prime to `False`. For example, the first few values should be\n",
      "\n",
      "    [False, False, True, etc.]"
     ]
    },
    {
     "cell_type": "code",
     "collapsed": false,
     "input": [
      "ind=np.arange(1000)\n",
      "\n",
      "for i in ind:\n",
      "    isfactor=[]\n",
      "    for factor in np.arange(1,i+1):\n",
      "        isfactor.append(i%factor==0)\n",
      "    primes[i] = np.sum(ind[isfactor]) < 3\n",
      "primes[0]= False\n",
      "primes[1]= False\n",
      "#Should be able to use dtype to set true/falses from booleans (vice versa?)\n",
      "\n"
     ],
     "language": "python",
     "metadata": {},
     "outputs": [],
     "prompt_number": 89
    },
    {
     "cell_type": "markdown",
     "metadata": {},
     "source": [
      "__9.3)__ Print out the prime numbers (_hint: use the np.nonzero() function_)"
     ]
    },
    {
     "cell_type": "code",
     "collapsed": false,
     "input": [
      "print ind[primes]"
     ],
     "language": "python",
     "metadata": {},
     "outputs": [
      {
       "output_type": "stream",
       "stream": "stdout",
       "text": [
        "[  2   3   5   7  11  13  17  19  23  29  31  37  41  43  47  53  59  61\n",
        "  67  71  73  79  83  89  97 101 103 107 109 113 127 131 137 139 149 151\n",
        " 157 163 167 173 179 181 191 193 197 199 211 223 227 229 233 239 241 251\n",
        " 257 263 269 271 277 281 283 293 307 311 313 317 331 337 347 349 353 359\n",
        " 367 373 379 383 389 397 401 409 419 421 431 433 439 443 449 457 461 463\n",
        " 467 479 487 491 499 503 509 521 523 541 547 557 563 569 571 577 587 593\n",
        " 599 601 607 613 617 619 631 641 643 647 653 659 661 673 677 683 691 701\n",
        " 709 719 727 733 739 743 751 757 761 769 773 787 797 809 811 821 823 827\n",
        " 829 839 853 857 859 863 877 881 883 887 907 911 919 929 937 941 947 953\n",
        " 967 971 977 983 991 997]\n"
       ]
      }
     ],
     "prompt_number": 90
    },
    {
     "cell_type": "markdown",
     "metadata": {},
     "source": [
      "__10)__ Write a function to evaluate a 2D Gaussian. The function should accept two arrays -- an array of x values and an array of y values -- a length-2 vector of means, and a covariance matrix. It should return an array with the same shape as the input x or y array. Recall that:\n",
      "\n",
      "$G({\\bf x} \\mid {\\bf \\mu},\\Sigma) = A \\exp\\big[ -\\frac{1}{2}\\left\\langle ({\\bf x - \\mu})^T, \\Sigma^{-1}({\\bf x - \\mu}) \\right\\rangle \\big]$\n",
      "\n",
      "Set $A=1$.\n",
      "\n",
      "This code should work with your function:\n",
      "\n",
      "    x = np.arange(0.,10.,0.1)\n",
      "    y = np.arange(0.,10.,0.1)\n",
      "    x,y = np.meshgrid(x,y)\n",
      "    mean_xy = np.array([5.,4.])\n",
      "    cov = np.array([[1.,1.],\n",
      "                    [1.,2.]])**2.\n",
      "    \n",
      "    f = gaussian2D(x.ravel(), y.ravel(), mean_xy, cov)\n",
      "    f.reshape(100,100)\n",
      "    imshow(f.reshape(100,100))\n",
      "   \n",
      "And should look like the image in ../misc/gaussian.png"
     ]
    },
    {
     "cell_type": "code",
     "collapsed": false,
     "input": [
      "def gaussian2D(x,y,meanxy,cov)\n",
      "    for i,xv in enumerate(x):\n",
      "        xy="
     ],
     "language": "python",
     "metadata": {},
     "outputs": []
    },
    {
     "cell_type": "code",
     "collapsed": false,
     "input": [],
     "language": "python",
     "metadata": {},
     "outputs": []
    },
    {
     "cell_type": "code",
     "collapsed": false,
     "input": [],
     "language": "python",
     "metadata": {},
     "outputs": []
    }
   ],
   "metadata": {}
  }
 ]
}