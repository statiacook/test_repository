{
 "metadata": {
  "name": "talk - iPython"
 },
 "nbformat": 3,
 "nbformat_minor": 0,
 "worksheets": [
  {
   "cells": [
    {
     "cell_type": "heading",
     "level": 1,
     "metadata": {},
     "source": [
      "Well, this is it!"
     ]
    },
    {
     "cell_type": "markdown",
     "metadata": {},
     "source": [
      "The iPython notebook is a a browser-based notebook with support for code, text, mathematical expressions, inline plots and other rich media."
     ]
    },
    {
     "cell_type": "markdown",
     "metadata": {},
     "source": [
      "In the backend, it's running the iPython interpreter -- we should first learn what that is, and how it's different (__better__) from the standard Python interpreter."
     ]
    },
    {
     "cell_type": "markdown",
     "metadata": {},
     "source": [
      "---"
     ]
    },
    {
     "cell_type": "markdown",
     "metadata": {},
     "source": [
      "OK, now that we have that, let's talk about the notebook! This is supposed to be an interface to let you include text, equations, images, videos, and code __all inline__. The idea is to create a modern scientific notebook -- somewhere we can write notes, dervie equations, embed plots, and tell a coherent story. It's a great place for data exploration and logging your research progress. Let's learn about some of the features."
     ]
    },
    {
     "cell_type": "heading",
     "level": 2,
     "metadata": {},
     "source": [
      "Cells"
     ]
    },
    {
     "cell_type": "markdown",
     "metadata": {},
     "source": [
      "The notebook manages these objects -- text, equations, images, code, etc. -- in __Cells__. The type of cell can be changed in the toolbar above with a dropdown menu. "
     ]
    },
    {
     "cell_type": "markdown",
     "metadata": {},
     "source": [
      "To edit a cell, double click on it and the cursor should appear."
     ]
    },
    {
     "cell_type": "markdown",
     "metadata": {},
     "source": [
      "To finish with a cell and go to the next one (text), or to execute code (code), use __Shift + Enter__."
     ]
    },
    {
     "cell_type": "markdown",
     "metadata": {},
     "source": [
      "---"
     ]
    },
    {
     "cell_type": "heading",
     "level": 3,
     "metadata": {},
     "source": [
      "Markdown cells"
     ]
    },
    {
     "cell_type": "markdown",
     "metadata": {},
     "source": [
      "The cells with text are 'Markdown' cells, because they allow rich text formatting via the markdown markup language (similar to restructured text, or like a cleaner HTML). I can also just type plain-text in here and it renders normally..."
     ]
    },
    {
     "cell_type": "markdown",
     "metadata": {},
     "source": [
      "Markdown basics: lists, markup and code\n",
      "\n",
      "* list item \n",
      "* list item\n",
      "  * nested list item\n",
      "\n",
      "\n",
      "* _italics_\n",
      "* __bold__\n",
      "* `fixed-width font`\n",
      "\n",
      "Code examples:\n",
      "\n",
      "    def hello_ipython():\n",
      "        print \"Hello IPython!\""
     ]
    },
    {
     "cell_type": "markdown",
     "metadata": {},
     "source": [
      "I can also render equations __in-line__ by enclosing latex in \\$'s:\n",
      "\n",
      "$\\alpha * \\beta + \\gamma^3$\n",
      "\n",
      "$\\int^6_0 x^2 dx$"
     ]
    },
    {
     "cell_type": "markdown",
     "metadata": {},
     "source": [
      "---"
     ]
    },
    {
     "cell_type": "heading",
     "level": 3,
     "metadata": {},
     "source": [
      "Code cells"
     ]
    },
    {
     "cell_type": "markdown",
     "metadata": {},
     "source": [
      "Code cells allow you to write and execute Python code in blocks. This is a bit nicer than the standard interpreter, where you have to do it line-by-line. This is especially helpful when you have to re-run some code -- you can just re-run the whole cell, instead of running each line independently. To run the code, use:\n",
      "\n",
      "* Shift + Enter : Runs cell and moved to next cell\n",
      "* Ctrl + Enter : Runs cell, stays in cell"
     ]
    },
    {
     "cell_type": "markdown",
     "metadata": {},
     "source": [
      "All of the nice features of iPython exist in the notebook -- tab completion, fancy help dialogs, magic functions -- but also have code coloring, and the blocked code execution."
     ]
    },
    {
     "cell_type": "code",
     "collapsed": false,
     "input": [
      "8*11 + 16"
     ],
     "language": "python",
     "metadata": {},
     "outputs": [
      {
       "output_type": "pyout",
       "prompt_number": 5,
       "text": [
        "104"
       ]
      }
     ],
     "prompt_number": 5
    },
    {
     "cell_type": "code",
     "collapsed": false,
     "input": [
      "print \"spam\"*10"
     ],
     "language": "python",
     "metadata": {},
     "outputs": [
      {
       "output_type": "stream",
       "stream": "stdout",
       "text": [
        "spamspamspamspamspamspamspamspamspamspam\n"
       ]
      }
     ],
     "prompt_number": 6
    },
    {
     "cell_type": "markdown",
     "metadata": {},
     "source": [
      "All the fancy iPython stuff is available here too:"
     ]
    },
    {
     "cell_type": "code",
     "collapsed": false,
     "input": [
      "ls"
     ],
     "language": "python",
     "metadata": {},
     "outputs": [
      {
       "output_type": "stream",
       "stream": "stdout",
       "text": [
<<<<<<< HEAD
        "exercises - Advanced Python.ipynb  \u001b[34msolutions\u001b[m\u001b[m/\r\n",
        "exercises - Astropy.ipynb          talk - Advanced Python.ipynb\r\n",
        "exercises - Intro to Python.ipynb  talk - astropy.ipynb\r\n",
        "exercises - iPython.ipynb          talk - iPython.ipynb\r\n",
        "exercises - numpy.ipynb            talk - matplotlib.ipynb\r\n",
        "exercises - scipy.ipynb            talk - numpy.ipynb\r\n",
        "project - SEGUE prompt.ipynb       talk - scipy.ipynb\r\n"
=======
        "exercises - Advanced Python.ipynb  exercises - scipy.ipynb            talk - iPython.ipynb\r\n",
        "exercises - Astropy.ipynb          project - SEGUE prompt.ipynb       talk - matplotlib.ipynb\r\n",
        "exercises - Intro to Python.ipynb  \u001b[1m\u001b[34msolutions\u001b[m\u001b[m/                         talk - numpy.ipynb\r\n",
        "exercises - iPython.ipynb          talk - Advanced Python.ipynb       talk - scipy.ipynb\r\n",
        "exercises - numpy.ipynb            talk - astropy.ipynb\r\n"
>>>>>>> 706f6ff5be34dd9aa98ec23af501b85a103da54a
       ]
      }
     ],
     "prompt_number": 7
    },
    {
<<<<<<< HEAD
     "cell_type": "code",
     "collapsed": false,
     "input": [
      "map?"
     ],
     "language": "python",
     "metadata": {},
     "outputs": [],
     "prompt_number": 8
    },
    {
=======
>>>>>>> 706f6ff5be34dd9aa98ec23af501b85a103da54a
     "cell_type": "markdown",
     "metadata": {},
     "source": [
      "---"
     ]
    },
    {
     "cell_type": "heading",
     "level": 3,
     "metadata": {},
     "source": [
      "Rich media"
     ]
    },
    {
     "cell_type": "markdown",
     "metadata": {},
     "source": [
      "You can include images and video, and even write HTML directly in the notebook:"
     ]
    },
    {
     "cell_type": "code",
     "collapsed": false,
     "input": [
      "from IPython.display import Image\n",
      "Image(url='http://o.onionstatic.com/images/7/7954/original/700.hq.jpg', width=300)"
     ],
     "language": "python",
     "metadata": {},
     "outputs": [
      {
<<<<<<< HEAD
       "ename": "TypeError",
       "evalue": "__init__() got an unexpected keyword argument 'width'",
       "output_type": "pyerr",
       "traceback": [
        "\u001b[0;31m---------------------------------------------------------------------------\u001b[0m\n\u001b[0;31mTypeError\u001b[0m                                 Traceback (most recent call last)",
        "\u001b[0;32m<ipython-input-11-b1598bdf3752>\u001b[0m in \u001b[0;36m<module>\u001b[0;34m()\u001b[0m\n\u001b[1;32m      1\u001b[0m \u001b[0;32mfrom\u001b[0m \u001b[0mIPython\u001b[0m\u001b[0;34m.\u001b[0m\u001b[0mdisplay\u001b[0m \u001b[0;32mimport\u001b[0m \u001b[0mImage\u001b[0m\u001b[0;34m\u001b[0m\u001b[0m\n\u001b[0;32m----> 2\u001b[0;31m \u001b[0mImage\u001b[0m\u001b[0;34m(\u001b[0m\u001b[0murl\u001b[0m\u001b[0;34m=\u001b[0m\u001b[0;34m'http://o.onionstatic.com/images/7/7954/original/700.hq.jpg'\u001b[0m\u001b[0;34m,\u001b[0m \u001b[0mwidth\u001b[0m\u001b[0;34m=\u001b[0m\u001b[0;36m300\u001b[0m\u001b[0;34m)\u001b[0m\u001b[0;34m\u001b[0m\u001b[0m\n\u001b[0m",
        "\u001b[0;31mTypeError\u001b[0m: __init__() got an unexpected keyword argument 'width'"
       ]
      }
     ],
     "prompt_number": 11
=======
       "html": [
        "<img src=\"http://o.onionstatic.com/images/7/7954/original/700.hq.jpg\" width=\"300\"/>"
       ],
       "metadata": {},
       "output_type": "pyout",
       "prompt_number": 4,
       "text": [
        "<IPython.core.display.Image at 0x108e72350>"
       ]
      }
     ],
     "prompt_number": 4
>>>>>>> 706f6ff5be34dd9aa98ec23af501b85a103da54a
    },
    {
     "cell_type": "code",
     "collapsed": false,
     "input": [
      "from IPython.display import YouTubeVideo\n",
      "YouTubeVideo('xEhaVhta7sI')"
     ],
     "language": "python",
     "metadata": {},
     "outputs": [
      {
       "html": [
        "\n",
        "            <iframe\n",
        "                width=\"400\"\n",
        "                height=\"300\"\n",
        "                src=\"http://www.youtube.com/embed/xEhaVhta7sI\"\n",
        "                frameborder=\"0\"\n",
        "                allowfullscreen\n",
        "            ></iframe>\n",
        "        "
       ],
       "output_type": "pyout",
<<<<<<< HEAD
       "prompt_number": 10,
       "text": [
        "<IPython.lib.display.YouTubeVideo at 0x10650f990>"
       ]
      }
     ],
     "prompt_number": 10
=======
       "prompt_number": 5,
       "text": [
        "<IPython.lib.display.YouTubeVideo at 0x108e722d0>"
       ]
      }
     ],
     "prompt_number": 5
>>>>>>> 706f6ff5be34dd9aa98ec23af501b85a103da54a
    },
    {
     "cell_type": "code",
     "collapsed": false,
     "input": [
      "from IPython.display import HTML\n",
      "HTML(\"<span style='font-family: \\\"Comic Sans MS\\\", cursive, sans-serif; font-size: 24pt;'>\"\n",
      "     \"Everyone loves comic sans!\"\n",
      "     \"</span>\")"
     ],
     "language": "python",
     "metadata": {},
     "outputs": [
      {
       "html": [
        "<span style='font-family: \"Comic Sans MS\", cursive, sans-serif; font-size: 24pt;'>Everyone loves comic sans!</span>"
       ],
       "output_type": "pyout",
<<<<<<< HEAD
       "prompt_number": 9,
       "text": [
        "<IPython.core.display.HTML at 0x105302690>"
       ]
      }
     ],
     "prompt_number": 9
=======
       "prompt_number": 6,
       "text": [
        "<IPython.core.display.HTML at 0x108e72310>"
       ]
      }
     ],
     "prompt_number": 6
>>>>>>> 706f6ff5be34dd9aa98ec23af501b85a103da54a
    },
    {
     "cell_type": "markdown",
     "metadata": {},
     "source": [
      "Sadly, this advanced HTML isn't implemented:"
     ]
    },
    {
     "cell_type": "code",
     "collapsed": false,
     "input": [
      "Image(url=\"http://i1.kym-cdn.com/photos/images/original/000/225/119/HTML%252Bkitty.jpg\", width=250)"
     ],
     "language": "python",
     "metadata": {},
     "outputs": [
      {
<<<<<<< HEAD
       "ename": "TypeError",
       "evalue": "__init__() got an unexpected keyword argument 'width'",
       "output_type": "pyerr",
       "traceback": [
        "\u001b[0;31m---------------------------------------------------------------------------\u001b[0m\n\u001b[0;31mTypeError\u001b[0m                                 Traceback (most recent call last)",
        "\u001b[0;32m<ipython-input-12-eb2465b78f58>\u001b[0m in \u001b[0;36m<module>\u001b[0;34m()\u001b[0m\n\u001b[0;32m----> 1\u001b[0;31m \u001b[0mImage\u001b[0m\u001b[0;34m(\u001b[0m\u001b[0murl\u001b[0m\u001b[0;34m=\u001b[0m\u001b[0;34m\"http://i1.kym-cdn.com/photos/images/original/000/225/119/HTML%252Bkitty.jpg\"\u001b[0m\u001b[0;34m,\u001b[0m \u001b[0mwidth\u001b[0m\u001b[0;34m=\u001b[0m\u001b[0;36m250\u001b[0m\u001b[0;34m)\u001b[0m\u001b[0;34m\u001b[0m\u001b[0m\n\u001b[0m",
        "\u001b[0;31mTypeError\u001b[0m: __init__() got an unexpected keyword argument 'width'"
       ]
      }
     ],
     "prompt_number": 12
=======
       "html": [
        "<img src=\"http://i1.kym-cdn.com/photos/images/original/000/225/119/HTML%252Bkitty.jpg\" width=\"250\"/>"
       ],
       "metadata": {},
       "output_type": "pyout",
       "prompt_number": 7,
       "text": [
        "<IPython.core.display.Image at 0x108e723d0>"
       ]
      }
     ],
     "prompt_number": 7
>>>>>>> 706f6ff5be34dd9aa98ec23af501b85a103da54a
    },
    {
     "cell_type": "markdown",
     "metadata": {},
     "source": [
      "---"
     ]
    },
    {
     "cell_type": "heading",
     "level": 3,
     "metadata": {},
     "source": [
      "Misc"
     ]
    },
    {
     "cell_type": "markdown",
     "metadata": {},
     "source": [
      "* To save a notebook, use __Cmd + s__ (mac) or __Ctrl + s__ (other). For now, you can use the toolbar above to add new cells, and change the type, but there are keyboard bindings for most commands. To see what key-bindings are available, do __Ctrl + m__, __h__.\n",
      "\n",
      "* Be aware of the website http://nbviewer.ipython.org/ -- you enter a link to a notebook, and it will render it as an HTML page so you can send it to *anyone* to view!"
     ]
    },
    {
     "cell_type": "heading",
     "level": 3,
     "metadata": {},
     "source": [
      "The Future"
     ]
    },
    {
     "cell_type": "markdown",
     "metadata": {},
     "source": [
      "The developers (great guys, by the way -- very helpful and responsive) are just about to release v1.0 (imminent -- within days or weeks). This version will be a great improvement in layout, and will include __Autosave__. I definitely recommend updating when that happens (you may notice my notebook looks different -- I'm using the dev version, which is essentially 1.0). More importantly, the devs are committed to continuously improving the notebook and just got a sizable grant from the Sloan foundation to make that happen. If you have ideas, join the ipython-dev mailing list, or tweet at @fperez or @ellisonbg (two of the core developers)."
     ]
    },
    {
     "cell_type": "code",
     "collapsed": false,
     "input": [],
     "language": "python",
     "metadata": {},
<<<<<<< HEAD
     "outputs": []
=======
     "outputs": [],
     "prompt_number": 7
>>>>>>> 706f6ff5be34dd9aa98ec23af501b85a103da54a
    }
   ],
   "metadata": {}
  }
 ]
}